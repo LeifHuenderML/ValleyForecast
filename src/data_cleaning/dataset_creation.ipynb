{
 "cells": [
  {
   "cell_type": "code",
   "execution_count": 1,
   "metadata": {},
   "outputs": [],
   "source": [
    "import pandas as pd\n",
    "from sklearn.preprocessing import MinMaxScaler\n",
    "import torch\n",
    "import sys\n",
    "import numpy as np"
   ]
  },
  {
   "cell_type": "markdown",
   "metadata": {},
   "source": [
    "# this notebook takes the data from the weather and mathes it up with the data from the valley fever rates so that the the datasets that will be used in training everything are created"
   ]
  },
  {
   "cell_type": "code",
   "execution_count": 2,
   "metadata": {},
   "outputs": [],
   "source": [
    "weather = pd.read_csv('../../data/weather_datasets/one_hot_weather_06_02_24.csv')\n",
    "rates = pd.read_csv('../../data/valley_fever_rates/valley_fever_cases_05_31_24.csv')"
   ]
  },
  {
   "cell_type": "code",
   "execution_count": 3,
   "metadata": {},
   "outputs": [
    {
     "name": "stdout",
     "output_type": "stream",
     "text": [
      "Weather shape: (19241397, 75)\n",
      "Rates shape: (1056, 4)\n"
     ]
    }
   ],
   "source": [
    "print(f'Weather shape: {weather.shape}')\n",
    "print(f'Rates shape: {rates.shape}')"
   ]
  },
  {
   "cell_type": "code",
   "execution_count": 4,
   "metadata": {},
   "outputs": [],
   "source": [
    "#these are already one hot encoded and were left as redundant\n",
    "weather = weather.drop(['Wthrmain','Wthrdesc'], axis=1)"
   ]
  },
  {
   "cell_type": "code",
   "execution_count": 5,
   "metadata": {},
   "outputs": [],
   "source": [
    "#was a index that got accitendaly saved\n",
    "rates = rates.drop('Unnamed: 0',axis=1)"
   ]
  },
  {
   "cell_type": "code",
   "execution_count": 6,
   "metadata": {},
   "outputs": [
    {
     "data": {
      "text/plain": [
       "(9750922, 73)"
      ]
     },
     "execution_count": 6,
     "metadata": {},
     "output_type": "execute_result"
    }
   ],
   "source": [
    "# i made the weather start in 2000 because the output for 2001 of the rates will contain data from september 2000 to august 2001\n",
    "weather = weather.loc[weather['Year'] >= 2000]\n",
    "weather = weather.loc[weather['Year'] <= 2022]\n",
    "weather.shape"
   ]
  },
  {
   "cell_type": "code",
   "execution_count": 7,
   "metadata": {},
   "outputs": [
    {
     "name": "stdout",
     "output_type": "stream",
     "text": [
      "['Alameda' 'Amador' 'Berkeley' 'Butte' 'Calaveras' 'Colusa' 'ContraCosta'\n",
      " 'ElDorado' 'Fresno' 'Humboldt' 'Imperial' 'Kern' 'Lassen' 'LongBeach'\n",
      " 'Madera' 'Marin' 'Mendocino' 'Merced' 'Monterey' 'Napa' 'Nevada' 'Orange'\n",
      " 'Pasadena' 'Placer' 'Riverside' 'Sacramento' 'SanBenito' 'SanBernardino'\n",
      " 'SanDiego' 'SanFrancisco' 'SanJoaquin' 'SanLuisObispo' 'SanMateo'\n",
      " 'SantaBarbara' 'SantaClara' 'SantaCruz' 'Siskiyou' 'Solano' 'Sonoma'\n",
      " 'Stanislaus' 'Sutter' 'Tehama' 'Tulare' 'Tuolumne' 'Ventura' 'Yolo'\n",
      " 'Yuba' 'Kings']\n",
      "['ALAMEDA' 'AMADOR' 'BERKELEY' 'BUTTE' 'CALAVERAS' 'COLUSA' 'CONTRA COSTA'\n",
      " 'EL DORADO' 'FRESNO' 'HUMBOLDT' 'IMPERIAL' 'KERN' 'KINGS' 'LASSEN'\n",
      " 'LONG BEACH' 'MADERA' 'MARIN' 'MENDOCINO' 'MERCED' 'MONTEREY' 'NAPA'\n",
      " 'NEVADA' 'ORANGE' 'PASADENA' 'PLACER' 'RIVERSIDE' 'SACRAMENTO'\n",
      " 'SAN BENITO' 'SAN BERNARDINO' 'SAN DIEGO' 'SAN FRANCISCO' 'SAN JOAQUIN'\n",
      " 'SAN LUIS OBISPO' 'SAN MATEO' 'SANTA BARBARA' 'SANTA CLARA' 'SANTA CRUZ'\n",
      " 'SISKIYOU' 'SOLANO' 'SONOMA' 'STANISLAUS' 'SUTTER' 'TEHAMA' 'TULARE'\n",
      " 'TUOLUMNE' 'VENTURA' 'YOLO' 'YUBA']\n"
     ]
    }
   ],
   "source": [
    "print(weather['County'].unique())\n",
    "print(rates['County'].unique())"
   ]
  },
  {
   "cell_type": "code",
   "execution_count": 8,
   "metadata": {},
   "outputs": [
    {
     "name": "stdout",
     "output_type": "stream",
     "text": [
      "['Alameda' 'Amador' 'Berkeley' 'Butte' 'Calaveras' 'Colusa' 'ContraCosta'\n",
      " 'ElDorado' 'Fresno' 'Humboldt' 'Imperial' 'Kern' 'Kings' 'Lassen'\n",
      " 'LongBeach' 'Madera' 'Marin' 'Mendocino' 'Merced' 'Monterey' 'Napa'\n",
      " 'Nevada' 'Orange' 'Pasadena' 'Placer' 'Riverside' 'Sacramento'\n",
      " 'SanBenito' 'SanBernardino' 'SanDiego' 'SanFrancisco' 'SanJoaquin'\n",
      " 'SanLuisObispo' 'SanMateo' 'SantaBarbara' 'SantaClara' 'SantaCruz'\n",
      " 'Siskiyou' 'Solano' 'Sonoma' 'Stanislaus' 'Sutter' 'Tehama' 'Tulare'\n",
      " 'Tuolumne' 'Ventura' 'Yolo' 'Yuba']\n"
     ]
    }
   ],
   "source": [
    "#relabel all of the counties so it is in a better format\n",
    "rates['County'] = rates['County'].replace({\n",
    "    'ALAMEDA': 'Alameda',\n",
    "    'AMADOR': 'Amador',\n",
    "    'BERKELEY': 'Berkeley',\n",
    "    'BUTTE': 'Butte',\n",
    "    'CALAVERAS': 'Calaveras',\n",
    "    'COLUSA': 'Colusa',\n",
    "    'CONTRA COSTA': 'ContraCosta',\n",
    "    'EL DORADO': 'ElDorado',\n",
    "    'FRESNO': 'Fresno',\n",
    "    'HUMBOLDT': 'Humboldt',\n",
    "    'IMPERIAL': 'Imperial',\n",
    "    'KERN': 'Kern',\n",
    "    'LASSEN': 'Lassen',\n",
    "    'LONG BEACH': 'LongBeach',\n",
    "    'MADERA': 'Madera',\n",
    "    'MARIN': 'Marin',\n",
    "    'MENDOCINO': 'Mendocino',\n",
    "    'MERCED': 'Merced',\n",
    "    'MONTEREY': 'Monterey',\n",
    "    'NAPA': 'Napa',\n",
    "    'NEVADA': 'Nevada',\n",
    "    'ORANGE': 'Orange',\n",
    "    'PASADENA': 'Pasadena',\n",
    "    'PLACER': 'Placer',\n",
    "    'RIVERSIDE': 'Riverside',\n",
    "    'SACRAMENTO': 'Sacramento',\n",
    "    'SAN BENITO': 'SanBenito',\n",
    "    'SAN BERNARDINO': 'SanBernardino',\n",
    "    'SAN DIEGO': 'SanDiego',\n",
    "    'SAN FRANCISCO': 'SanFrancisco',\n",
    "    'SAN JOAQUIN': 'SanJoaquin',\n",
    "    'SAN LUIS OBISPO': 'SanLuisObispo',\n",
    "    'SAN MATEO': 'SanMateo',\n",
    "    'SANTA BARBARA': 'SantaBarbara',\n",
    "    'SANTA CLARA': 'SantaClara',\n",
    "    'SANTA CRUZ': 'SantaCruz',\n",
    "    'SISKIYOU': 'Siskiyou',\n",
    "    'SOLANO': 'Solano',\n",
    "    'SONOMA': 'Sonoma',\n",
    "    'STANISLAUS': 'Stanislaus',\n",
    "    'SUTTER': 'Sutter',\n",
    "    'TEHAMA': 'Tehama',\n",
    "    'TULARE': 'Tulare',\n",
    "    'TUOLUMNE': 'Tuolumne',\n",
    "    'VENTURA': 'Ventura',\n",
    "    'YOLO': 'Yolo',\n",
    "    'YUBA': 'Yuba',\n",
    "    'KINGS': 'Kings'\n",
    "})\n",
    "print(rates['County'].unique())"
   ]
  },
  {
   "cell_type": "code",
   "execution_count": 9,
   "metadata": {},
   "outputs": [],
   "source": [
    "# rates.to_csv('../../data/valley_fever_rates/valley_fever_cases_06_02_24.csv', index=False)"
   ]
  },
  {
   "cell_type": "code",
   "execution_count": 10,
   "metadata": {},
   "outputs": [
    {
     "data": {
      "text/plain": [
       "(9750922, 73)"
      ]
     },
     "execution_count": 10,
     "metadata": {},
     "output_type": "execute_result"
    }
   ],
   "source": [
    "weather.shape"
   ]
  },
  {
   "cell_type": "code",
   "execution_count": 11,
   "metadata": {},
   "outputs": [
    {
     "data": {
      "text/plain": [
       "(1056, 3)"
      ]
     },
     "execution_count": 11,
     "metadata": {},
     "output_type": "execute_result"
    }
   ],
   "source": [
    "rates.shape"
   ]
  },
  {
   "cell_type": "code",
   "execution_count": 12,
   "metadata": {},
   "outputs": [
    {
     "name": "stdout",
     "output_type": "stream",
     "text": [
      "[2000 2001 2002 2003 2004 2005 2006 2007 2008 2009 2010 2011 2012 2013\n",
      " 2014 2015 2016 2017 2018 2019 2020 2021 2022]\n"
     ]
    }
   ],
   "source": [
    "print(weather['Year'].unique())"
   ]
  },
  {
   "cell_type": "code",
   "execution_count": 13,
   "metadata": {},
   "outputs": [
    {
     "name": "stdout",
     "output_type": "stream",
     "text": [
      "County: Alameda, Number of unique years: 23\n",
      "County: Amador, Number of unique years: 23\n",
      "County: Berkeley, Number of unique years: 23\n",
      "County: Butte, Number of unique years: 23\n",
      "County: Calaveras, Number of unique years: 23\n",
      "County: Colusa, Number of unique years: 23\n",
      "County: ContraCosta, Number of unique years: 23\n",
      "County: ElDorado, Number of unique years: 23\n",
      "County: Fresno, Number of unique years: 23\n",
      "County: Humboldt, Number of unique years: 23\n",
      "County: Imperial, Number of unique years: 23\n",
      "County: Kern, Number of unique years: 23\n",
      "County: Kings, Number of unique years: 23\n",
      "County: Lassen, Number of unique years: 23\n",
      "County: LongBeach, Number of unique years: 23\n",
      "County: Madera, Number of unique years: 23\n",
      "County: Marin, Number of unique years: 23\n",
      "County: Mendocino, Number of unique years: 23\n",
      "County: Merced, Number of unique years: 23\n",
      "County: Monterey, Number of unique years: 23\n",
      "County: Napa, Number of unique years: 23\n",
      "County: Nevada, Number of unique years: 23\n",
      "County: Orange, Number of unique years: 23\n",
      "County: Pasadena, Number of unique years: 23\n",
      "County: Placer, Number of unique years: 23\n",
      "County: Riverside, Number of unique years: 23\n",
      "County: Sacramento, Number of unique years: 23\n",
      "County: SanBenito, Number of unique years: 23\n",
      "County: SanBernardino, Number of unique years: 23\n",
      "County: SanDiego, Number of unique years: 23\n",
      "County: SanFrancisco, Number of unique years: 23\n",
      "County: SanJoaquin, Number of unique years: 23\n",
      "County: SanLuisObispo, Number of unique years: 23\n",
      "County: SanMateo, Number of unique years: 23\n",
      "County: SantaBarbara, Number of unique years: 23\n",
      "County: SantaClara, Number of unique years: 23\n",
      "County: SantaCruz, Number of unique years: 23\n",
      "County: Siskiyou, Number of unique years: 23\n",
      "County: Solano, Number of unique years: 23\n",
      "County: Sonoma, Number of unique years: 23\n",
      "County: Stanislaus, Number of unique years: 23\n",
      "County: Sutter, Number of unique years: 23\n",
      "County: Tehama, Number of unique years: 23\n",
      "County: Tulare, Number of unique years: 23\n",
      "County: Tuolumne, Number of unique years: 23\n",
      "County: Ventura, Number of unique years: 23\n",
      "County: Yolo, Number of unique years: 23\n",
      "County: Yuba, Number of unique years: 23\n"
     ]
    }
   ],
   "source": [
    "#check to make sure there is no missing info\n",
    "for county, group in weather.groupby('County'):\n",
    "    print(f\"County: {county}, Number of unique years: {len(group['Year'].unique())}\")"
   ]
  },
  {
   "cell_type": "code",
   "execution_count": 14,
   "metadata": {},
   "outputs": [
    {
     "name": "stdout",
     "output_type": "stream",
     "text": [
      "48\n"
     ]
    }
   ],
   "source": [
    "print(len(weather['County'].unique()))"
   ]
  },
  {
   "cell_type": "markdown",
   "metadata": {},
   "source": [
    "# math \n",
    "The weather dataset has a totatl of:\n",
    "    - 9750922 instances\n",
    "    - 48 counties\n",
    "    - 23 years \n",
    "    - 365 days in a year\n",
    "    - 24 hours in a day\n",
    "\n",
    "so to verify that the number of instances is correct \n",
    "we can do 48 * 23 * 365 * 24 = 9671040\n"
   ]
  },
  {
   "cell_type": "code",
   "execution_count": 15,
   "metadata": {},
   "outputs": [
    {
     "name": "stdout",
     "output_type": "stream",
     "text": [
      "48\n"
     ]
    }
   ],
   "source": [
    "print(len(rates['County'].unique()))"
   ]
  },
  {
   "cell_type": "code",
   "execution_count": 16,
   "metadata": {},
   "outputs": [
    {
     "name": "stdout",
     "output_type": "stream",
     "text": [
      "County: Alameda, Number of unique years: 22\n",
      "County: Amador, Number of unique years: 22\n",
      "County: Berkeley, Number of unique years: 22\n",
      "County: Butte, Number of unique years: 22\n",
      "County: Calaveras, Number of unique years: 22\n",
      "County: Colusa, Number of unique years: 22\n",
      "County: ContraCosta, Number of unique years: 22\n",
      "County: ElDorado, Number of unique years: 22\n",
      "County: Fresno, Number of unique years: 22\n",
      "County: Humboldt, Number of unique years: 22\n",
      "County: Imperial, Number of unique years: 22\n",
      "County: Kern, Number of unique years: 22\n",
      "County: Kings, Number of unique years: 22\n",
      "County: Lassen, Number of unique years: 22\n",
      "County: LongBeach, Number of unique years: 22\n",
      "County: Madera, Number of unique years: 22\n",
      "County: Marin, Number of unique years: 22\n",
      "County: Mendocino, Number of unique years: 22\n",
      "County: Merced, Number of unique years: 22\n",
      "County: Monterey, Number of unique years: 22\n",
      "County: Napa, Number of unique years: 22\n",
      "County: Nevada, Number of unique years: 22\n",
      "County: Orange, Number of unique years: 22\n",
      "County: Pasadena, Number of unique years: 22\n",
      "County: Placer, Number of unique years: 22\n",
      "County: Riverside, Number of unique years: 22\n",
      "County: Sacramento, Number of unique years: 22\n",
      "County: SanBenito, Number of unique years: 22\n",
      "County: SanBernardino, Number of unique years: 22\n",
      "County: SanDiego, Number of unique years: 22\n",
      "County: SanFrancisco, Number of unique years: 22\n",
      "County: SanJoaquin, Number of unique years: 22\n",
      "County: SanLuisObispo, Number of unique years: 22\n",
      "County: SanMateo, Number of unique years: 22\n",
      "County: SantaBarbara, Number of unique years: 22\n",
      "County: SantaClara, Number of unique years: 22\n",
      "County: SantaCruz, Number of unique years: 22\n",
      "County: Siskiyou, Number of unique years: 22\n",
      "County: Solano, Number of unique years: 22\n",
      "County: Sonoma, Number of unique years: 22\n",
      "County: Stanislaus, Number of unique years: 22\n",
      "County: Sutter, Number of unique years: 22\n",
      "County: Tehama, Number of unique years: 22\n",
      "County: Tulare, Number of unique years: 22\n",
      "County: Tuolumne, Number of unique years: 22\n",
      "County: Ventura, Number of unique years: 22\n",
      "County: Yolo, Number of unique years: 22\n",
      "County: Yuba, Number of unique years: 22\n"
     ]
    }
   ],
   "source": [
    "for county, group in rates.groupby('County'):\n",
    "    print(f\"County: {county}, Number of unique years: {len(group['Year'].unique())}\")"
   ]
  },
  {
   "cell_type": "markdown",
   "metadata": {},
   "source": [
    "# This block creates the dataset without aggregation"
   ]
  },
  {
   "cell_type": "code",
   "execution_count": 20,
   "metadata": {},
   "outputs": [
    {
     "name": "stdout",
     "output_type": "stream",
     "text": [
      "X Shape: torch.Size([1056, 8760, 69])\n",
      "Y Shape: torch.Size([1056])\n"
     ]
    }
   ],
   "source": [
    "#relabel to df to make it easier to write a bunch of code with\n",
    "df = weather.copy()\n",
    "#convert data back to a datteime object\n",
    "df['Date'] = pd.to_datetime(df[['Year', 'Month', 'Day']])\n",
    "df = df.drop(['Year', 'Month', 'Day'], axis=1)\n",
    "\n",
    "#these will be temporarya for creating the data into the shape that will go into the tensors\n",
    "x_list = []\n",
    "y_list = []\n",
    "\n",
    "hours_per_year = 24 * 365\n",
    "\n",
    "#used for data normalization\n",
    "scaler = MinMaxScaler()\n",
    "\n",
    "#outer loop ranges over the years to create a date for filtering through the df\n",
    "for year in range(2000, 2022):\n",
    "    #start if on sept 1 and end is on aug 31 the following year\n",
    "    start_date = pd.Timestamp(year=year, month=9, day=1)\n",
    "    end_date = pd.Timestamp(year=year + 1, month=8, day=31)\n",
    "\n",
    "    #df for that timeframe\n",
    "    yearly_data = df[(df['Date'] >= start_date) & (df['Date'] <= end_date)]\n",
    "    \n",
    "    #loops through each county for that year and pairs it up with the cases for that county \n",
    "    for county, group in yearly_data.groupby('County'):\n",
    "        #the rate for the counnty currently on\n",
    "        rate = rates[(rates['County'] == county) & (rates['Year'] == end_date.year)]['Cases']\n",
    "        #checks for missing values\n",
    "        if not rate.empty:\n",
    "            # both are objects and would also not add to learing the weather parameters so we drop them from thoe dataset\n",
    "            group = group.drop(['County', 'Date'], axis=1)  \n",
    "\n",
    "            #ensures that there is the correct amont of instances in the group            \n",
    "            if group.shape[0] >= hours_per_year:\n",
    "                #slices the data so there is no extra\n",
    "                group = group.iloc[:hours_per_year]\n",
    "                #normalizes the data\n",
    "                scaled = scaler.fit_transform(group)\n",
    "                group = pd.DataFrame(scaled, columns=group.columns)\n",
    "                #middlestep for converting to torch tensors\n",
    "                x_arr = group.values\n",
    "                y_arr = rate.values[0]  \n",
    "                #convert the df values to a torch tensor then psh it to the list\n",
    "                x_list.append(torch.from_numpy(x_arr.astype(np.float32)))\n",
    "                y_list.append(torch.tensor(y_arr, dtype=torch.float32))\n",
    "#converts the list into a torch tensor\n",
    "x_tensor = torch.stack(x_list, dim=0)\n",
    "y_tensor = torch.stack(y_list, dim=0) \n",
    "\n",
    "torch.save(x_tensor, '../../data/dataset/x_06_04_24.pt')\n",
    "torch.save(y_tensor, '../../data/dataset/y_06_04_24.pt')\n",
    "\n",
    "print(f'X Shape: {x_tensor.shape}')\n",
    "print(f'Y Shape: {y_tensor.shape}')"
   ]
  },
  {
   "cell_type": "code",
   "execution_count": 30,
   "metadata": {},
   "outputs": [],
   "source": [
    "def add_input_noise(X, noise_level=0.01):\n",
    "    noise = torch.randn(X.size()) * noise_level\n",
    "    return X + noise\n",
    "\n",
    "x_augmented = add_input_noise(x_tensor)\n",
    "x_combined = torch.cat([x_tensor, x_augmented], dim=0)\n",
    "y_combined = torch.cat([y_tensor, y_tensor], dim=0)\n",
    "\n",
    "x_augmented_second = add_input_noise(x_combined, 0.001)\n",
    "x_combined_final = torch.cat([x_combined, x_augmented_second], dim=0)\n",
    "y_combined_final = torch.cat([y_combined, y_combined], dim=0)"
   ]
  },
  {
   "cell_type": "code",
   "execution_count": 28,
   "metadata": {},
   "outputs": [
    {
     "data": {
      "text/plain": [
       "torch.Size([4224, 8760, 69])"
      ]
     },
     "execution_count": 28,
     "metadata": {},
     "output_type": "execute_result"
    }
   ],
   "source": [
    "x_combined_final.shape"
   ]
  },
  {
   "cell_type": "code",
   "execution_count": 31,
   "metadata": {},
   "outputs": [
    {
     "data": {
      "text/plain": [
       "torch.Size([4224])"
      ]
     },
     "execution_count": 31,
     "metadata": {},
     "output_type": "execute_result"
    }
   ],
   "source": [
    "y_combined_final.shape"
   ]
  },
  {
   "cell_type": "code",
   "execution_count": 33,
   "metadata": {},
   "outputs": [],
   "source": [
    "torch.save(x_combined_final, '../../data/augmented_dataset/x_augmented_06_04_24.pt')\n",
    "torch.save(y_combined_final, '../../data/augmented_dataset/y_augmented_06_04_24.pt')"
   ]
  },
  {
   "cell_type": "code",
   "execution_count": null,
   "metadata": {},
   "outputs": [],
   "source": []
  }
 ],
 "metadata": {
  "kernelspec": {
   "display_name": "valley_fever",
   "language": "python",
   "name": "python3"
  },
  "language_info": {
   "codemirror_mode": {
    "name": "ipython",
    "version": 3
   },
   "file_extension": ".py",
   "mimetype": "text/x-python",
   "name": "python",
   "nbconvert_exporter": "python",
   "pygments_lexer": "ipython3",
   "version": "3.8.15"
  }
 },
 "nbformat": 4,
 "nbformat_minor": 2
}
