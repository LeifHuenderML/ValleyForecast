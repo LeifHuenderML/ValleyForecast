{
 "cells": [
  {
   "cell_type": "code",
   "execution_count": 2,
   "metadata": {},
   "outputs": [],
   "source": [
    "import pandas as pd\n",
    "from sklearn.preprocessing import MinMaxScaler\n",
    "import torch\n",
    "import sys\n",
    "import numpy as np"
   ]
  },
  {
   "cell_type": "markdown",
   "metadata": {},
   "source": [
    "# this notebook takes the data from the weather and mathes it up with the data from the valley fever rates so that the the datasets that will be used in training everything are created"
   ]
  },
  {
   "cell_type": "code",
   "execution_count": 3,
   "metadata": {},
   "outputs": [],
   "source": [
    "weather = pd.read_csv('../../data/weather_datasets/label_encoded_weather_06_06_24.csv')\n",
    "rates = pd.read_csv('../../data/valley_fever_rates/valley_fever_cases_05_31_24.csv')"
   ]
  },
  {
   "cell_type": "code",
   "execution_count": 4,
   "metadata": {},
   "outputs": [
    {
     "data": {
      "text/html": [
       "<div>\n",
       "<style scoped>\n",
       "    .dataframe tbody tr th:only-of-type {\n",
       "        vertical-align: middle;\n",
       "    }\n",
       "\n",
       "    .dataframe tbody tr th {\n",
       "        vertical-align: top;\n",
       "    }\n",
       "\n",
       "    .dataframe thead th {\n",
       "        text-align: right;\n",
       "    }\n",
       "</style>\n",
       "<table border=\"1\" class=\"dataframe\">\n",
       "  <thead>\n",
       "    <tr style=\"text-align: right;\">\n",
       "      <th></th>\n",
       "      <th>County</th>\n",
       "      <th>Temp</th>\n",
       "      <th>Dewpt</th>\n",
       "      <th>Feels</th>\n",
       "      <th>Tmin</th>\n",
       "      <th>Tmax</th>\n",
       "      <th>Pres</th>\n",
       "      <th>Humid</th>\n",
       "      <th>Windsp</th>\n",
       "      <th>Windir</th>\n",
       "      <th>Clouds</th>\n",
       "      <th>Wthrid</th>\n",
       "      <th>Wthrmain</th>\n",
       "      <th>Wthrdesc</th>\n",
       "      <th>date</th>\n",
       "    </tr>\n",
       "  </thead>\n",
       "  <tbody>\n",
       "    <tr>\n",
       "      <th>0</th>\n",
       "      <td>Alameda</td>\n",
       "      <td>6.63</td>\n",
       "      <td>-0.92</td>\n",
       "      <td>5.57</td>\n",
       "      <td>5.69</td>\n",
       "      <td>7.32</td>\n",
       "      <td>1024</td>\n",
       "      <td>58</td>\n",
       "      <td>1.70</td>\n",
       "      <td>14</td>\n",
       "      <td>0</td>\n",
       "      <td>800</td>\n",
       "      <td>0</td>\n",
       "      <td>30</td>\n",
       "      <td>1979-01-01 00:00:00+00:00</td>\n",
       "    </tr>\n",
       "    <tr>\n",
       "      <th>1</th>\n",
       "      <td>Alameda</td>\n",
       "      <td>7.63</td>\n",
       "      <td>-3.67</td>\n",
       "      <td>7.63</td>\n",
       "      <td>5.80</td>\n",
       "      <td>9.45</td>\n",
       "      <td>1023</td>\n",
       "      <td>43</td>\n",
       "      <td>1.19</td>\n",
       "      <td>59</td>\n",
       "      <td>0</td>\n",
       "      <td>800</td>\n",
       "      <td>0</td>\n",
       "      <td>30</td>\n",
       "      <td>1979-01-01 01:00:00+00:00</td>\n",
       "    </tr>\n",
       "    <tr>\n",
       "      <th>2</th>\n",
       "      <td>Alameda</td>\n",
       "      <td>6.93</td>\n",
       "      <td>-2.69</td>\n",
       "      <td>6.93</td>\n",
       "      <td>3.75</td>\n",
       "      <td>9.11</td>\n",
       "      <td>1024</td>\n",
       "      <td>49</td>\n",
       "      <td>0.43</td>\n",
       "      <td>111</td>\n",
       "      <td>0</td>\n",
       "      <td>800</td>\n",
       "      <td>0</td>\n",
       "      <td>30</td>\n",
       "      <td>1979-01-01 02:00:00+00:00</td>\n",
       "    </tr>\n",
       "    <tr>\n",
       "      <th>3</th>\n",
       "      <td>Alameda</td>\n",
       "      <td>-0.11</td>\n",
       "      <td>-4.71</td>\n",
       "      <td>-0.11</td>\n",
       "      <td>-1.63</td>\n",
       "      <td>1.41</td>\n",
       "      <td>1025</td>\n",
       "      <td>68</td>\n",
       "      <td>0.58</td>\n",
       "      <td>156</td>\n",
       "      <td>0</td>\n",
       "      <td>800</td>\n",
       "      <td>0</td>\n",
       "      <td>30</td>\n",
       "      <td>1979-01-01 03:00:00+00:00</td>\n",
       "    </tr>\n",
       "    <tr>\n",
       "      <th>4</th>\n",
       "      <td>Alameda</td>\n",
       "      <td>1.05</td>\n",
       "      <td>-4.79</td>\n",
       "      <td>1.05</td>\n",
       "      <td>-0.88</td>\n",
       "      <td>2.99</td>\n",
       "      <td>1025</td>\n",
       "      <td>62</td>\n",
       "      <td>1.01</td>\n",
       "      <td>132</td>\n",
       "      <td>0</td>\n",
       "      <td>800</td>\n",
       "      <td>0</td>\n",
       "      <td>30</td>\n",
       "      <td>1979-01-01 04:00:00+00:00</td>\n",
       "    </tr>\n",
       "  </tbody>\n",
       "</table>\n",
       "</div>"
      ],
      "text/plain": [
       "    County  Temp  Dewpt  Feels  Tmin  Tmax  Pres  Humid  Windsp  Windir  \\\n",
       "0  Alameda  6.63  -0.92   5.57  5.69  7.32  1024     58    1.70      14   \n",
       "1  Alameda  7.63  -3.67   7.63  5.80  9.45  1023     43    1.19      59   \n",
       "2  Alameda  6.93  -2.69   6.93  3.75  9.11  1024     49    0.43     111   \n",
       "3  Alameda -0.11  -4.71  -0.11 -1.63  1.41  1025     68    0.58     156   \n",
       "4  Alameda  1.05  -4.79   1.05 -0.88  2.99  1025     62    1.01     132   \n",
       "\n",
       "   Clouds  Wthrid  Wthrmain  Wthrdesc                       date  \n",
       "0       0     800         0        30  1979-01-01 00:00:00+00:00  \n",
       "1       0     800         0        30  1979-01-01 01:00:00+00:00  \n",
       "2       0     800         0        30  1979-01-01 02:00:00+00:00  \n",
       "3       0     800         0        30  1979-01-01 03:00:00+00:00  \n",
       "4       0     800         0        30  1979-01-01 04:00:00+00:00  "
      ]
     },
     "execution_count": 4,
     "metadata": {},
     "output_type": "execute_result"
    }
   ],
   "source": [
    "weather.head()"
   ]
  },
  {
   "cell_type": "code",
   "execution_count": 5,
   "metadata": {},
   "outputs": [
    {
     "name": "stdout",
     "output_type": "stream",
     "text": [
      "Weather shape: (19241397, 15)\n",
      "Rates shape: (1056, 4)\n"
     ]
    }
   ],
   "source": [
    "print(f'Weather shape: {weather.shape}')\n",
    "print(f'Rates shape: {rates.shape}')"
   ]
  },
  {
   "cell_type": "code",
   "execution_count": 6,
   "metadata": {},
   "outputs": [],
   "source": [
    "#was a index that got accitendaly saved\n",
    "rates = rates.drop('Unnamed: 0',axis=1)"
   ]
  },
  {
   "cell_type": "code",
   "execution_count": 10,
   "metadata": {},
   "outputs": [
    {
     "data": {
      "text/plain": [
       "County                   object\n",
       "Temp                    float64\n",
       "Dewpt                   float64\n",
       "Feels                   float64\n",
       "Tmin                    float64\n",
       "Tmax                    float64\n",
       "Pres                      int64\n",
       "Humid                     int64\n",
       "Windsp                  float64\n",
       "Windir                    int64\n",
       "Clouds                    int64\n",
       "Wthrid                    int64\n",
       "Wthrmain                  int64\n",
       "Wthrdesc                  int64\n",
       "date        datetime64[ns, UTC]\n",
       "dtype: object"
      ]
     },
     "execution_count": 10,
     "metadata": {},
     "output_type": "execute_result"
    }
   ],
   "source": [
    "weather['date'] = pd.to_datetime(weather['date'])\n",
    "weather.dtypes"
   ]
  },
  {
   "cell_type": "code",
   "execution_count": 11,
   "metadata": {},
   "outputs": [
    {
     "data": {
      "text/plain": [
       "(9750922, 15)"
      ]
     },
     "execution_count": 11,
     "metadata": {},
     "output_type": "execute_result"
    }
   ],
   "source": [
    "# i made the weather start in 2000 because the output for 2001 of the rates will contain data from september 2000 to august 2001\n",
    "weather = weather.loc[weather['date'].dt.year >= 2000]\n",
    "weather = weather.loc[weather['date'].dt.year <= 2022]\n",
    "weather.shape"
   ]
  },
  {
   "cell_type": "code",
   "execution_count": 12,
   "metadata": {},
   "outputs": [
    {
     "name": "stdout",
     "output_type": "stream",
     "text": [
      "['Alameda' 'Amador' 'Berkeley' 'Butte' 'Calaveras' 'Colusa' 'ContraCosta'\n",
      " 'ElDorado' 'Fresno' 'Humboldt' 'Imperial' 'Kern' 'Lassen' 'LongBeach'\n",
      " 'Madera' 'Marin' 'Mendocino' 'Merced' 'Monterey' 'Napa' 'Nevada' 'Orange'\n",
      " 'Pasadena' 'Placer' 'Riverside' 'Sacramento' 'SanBenito' 'SanBernardino'\n",
      " 'SanDiego' 'SanFrancisco' 'SanJoaquin' 'SanLuisObispo' 'SanMateo'\n",
      " 'SantaBarbara' 'SantaClara' 'SantaCruz' 'Siskiyou' 'Solano' 'Sonoma'\n",
      " 'Stanislaus' 'Sutter' 'Tehama' 'Tulare' 'Tuolumne' 'Ventura' 'Yolo'\n",
      " 'Yuba' 'Kings']\n",
      "['ALAMEDA' 'AMADOR' 'BERKELEY' 'BUTTE' 'CALAVERAS' 'COLUSA' 'CONTRA COSTA'\n",
      " 'EL DORADO' 'FRESNO' 'HUMBOLDT' 'IMPERIAL' 'KERN' 'KINGS' 'LASSEN'\n",
      " 'LONG BEACH' 'MADERA' 'MARIN' 'MENDOCINO' 'MERCED' 'MONTEREY' 'NAPA'\n",
      " 'NEVADA' 'ORANGE' 'PASADENA' 'PLACER' 'RIVERSIDE' 'SACRAMENTO'\n",
      " 'SAN BENITO' 'SAN BERNARDINO' 'SAN DIEGO' 'SAN FRANCISCO' 'SAN JOAQUIN'\n",
      " 'SAN LUIS OBISPO' 'SAN MATEO' 'SANTA BARBARA' 'SANTA CLARA' 'SANTA CRUZ'\n",
      " 'SISKIYOU' 'SOLANO' 'SONOMA' 'STANISLAUS' 'SUTTER' 'TEHAMA' 'TULARE'\n",
      " 'TUOLUMNE' 'VENTURA' 'YOLO' 'YUBA']\n"
     ]
    }
   ],
   "source": [
    "print(weather['County'].unique())\n",
    "print(rates['County'].unique())"
   ]
  },
  {
   "cell_type": "code",
   "execution_count": 13,
   "metadata": {},
   "outputs": [
    {
     "name": "stdout",
     "output_type": "stream",
     "text": [
      "['Alameda' 'Amador' 'Berkeley' 'Butte' 'Calaveras' 'Colusa' 'ContraCosta'\n",
      " 'ElDorado' 'Fresno' 'Humboldt' 'Imperial' 'Kern' 'Kings' 'Lassen'\n",
      " 'LongBeach' 'Madera' 'Marin' 'Mendocino' 'Merced' 'Monterey' 'Napa'\n",
      " 'Nevada' 'Orange' 'Pasadena' 'Placer' 'Riverside' 'Sacramento'\n",
      " 'SanBenito' 'SanBernardino' 'SanDiego' 'SanFrancisco' 'SanJoaquin'\n",
      " 'SanLuisObispo' 'SanMateo' 'SantaBarbara' 'SantaClara' 'SantaCruz'\n",
      " 'Siskiyou' 'Solano' 'Sonoma' 'Stanislaus' 'Sutter' 'Tehama' 'Tulare'\n",
      " 'Tuolumne' 'Ventura' 'Yolo' 'Yuba']\n"
     ]
    }
   ],
   "source": []
  },
  {
   "cell_type": "code",
   "execution_count": 28,
   "metadata": {},
   "outputs": [],
   "source": [
    "# rates.to_csv('../../data/valley_fever_rates/valley_fever_cases_06_02_24.csv', index=False)"
   ]
  },
  {
   "cell_type": "code",
   "execution_count": 14,
   "metadata": {},
   "outputs": [
    {
     "data": {
      "text/plain": [
       "(9750922, 15)"
      ]
     },
     "execution_count": 14,
     "metadata": {},
     "output_type": "execute_result"
    }
   ],
   "source": [
    "weather.shape"
   ]
  },
  {
   "cell_type": "code",
   "execution_count": 15,
   "metadata": {},
   "outputs": [
    {
     "data": {
      "text/plain": [
       "(1056, 3)"
      ]
     },
     "execution_count": 15,
     "metadata": {},
     "output_type": "execute_result"
    }
   ],
   "source": [
    "rates.shape"
   ]
  },
  {
   "cell_type": "code",
   "execution_count": 17,
   "metadata": {},
   "outputs": [
    {
     "name": "stdout",
     "output_type": "stream",
     "text": [
      "[2000 2001 2002 2003 2004 2005 2006 2007 2008 2009 2010 2011 2012 2013\n",
      " 2014 2015 2016 2017 2018 2019 2020 2021 2022]\n"
     ]
    }
   ],
   "source": [
    "print(weather['date'].dt.year.unique())"
   ]
  },
  {
   "cell_type": "code",
   "execution_count": 18,
   "metadata": {},
   "outputs": [
    {
     "name": "stdout",
     "output_type": "stream",
     "text": [
      "County: Alameda, Number of unique years: 23\n",
      "County: Amador, Number of unique years: 23\n",
      "County: Berkeley, Number of unique years: 23\n",
      "County: Butte, Number of unique years: 23\n",
      "County: Calaveras, Number of unique years: 23\n",
      "County: Colusa, Number of unique years: 23\n",
      "County: ContraCosta, Number of unique years: 23\n",
      "County: ElDorado, Number of unique years: 23\n",
      "County: Fresno, Number of unique years: 23\n",
      "County: Humboldt, Number of unique years: 23\n",
      "County: Imperial, Number of unique years: 23\n",
      "County: Kern, Number of unique years: 23\n",
      "County: Kings, Number of unique years: 23\n",
      "County: Lassen, Number of unique years: 23\n",
      "County: LongBeach, Number of unique years: 23\n",
      "County: Madera, Number of unique years: 23\n",
      "County: Marin, Number of unique years: 23\n",
      "County: Mendocino, Number of unique years: 23\n",
      "County: Merced, Number of unique years: 23\n",
      "County: Monterey, Number of unique years: 23\n",
      "County: Napa, Number of unique years: 23\n",
      "County: Nevada, Number of unique years: 23\n",
      "County: Orange, Number of unique years: 23\n",
      "County: Pasadena, Number of unique years: 23\n",
      "County: Placer, Number of unique years: 23\n",
      "County: Riverside, Number of unique years: 23\n",
      "County: Sacramento, Number of unique years: 23\n",
      "County: SanBenito, Number of unique years: 23\n",
      "County: SanBernardino, Number of unique years: 23\n",
      "County: SanDiego, Number of unique years: 23\n",
      "County: SanFrancisco, Number of unique years: 23\n",
      "County: SanJoaquin, Number of unique years: 23\n",
      "County: SanLuisObispo, Number of unique years: 23\n",
      "County: SanMateo, Number of unique years: 23\n",
      "County: SantaBarbara, Number of unique years: 23\n",
      "County: SantaClara, Number of unique years: 23\n",
      "County: SantaCruz, Number of unique years: 23\n",
      "County: Siskiyou, Number of unique years: 23\n",
      "County: Solano, Number of unique years: 23\n",
      "County: Sonoma, Number of unique years: 23\n",
      "County: Stanislaus, Number of unique years: 23\n",
      "County: Sutter, Number of unique years: 23\n",
      "County: Tehama, Number of unique years: 23\n",
      "County: Tulare, Number of unique years: 23\n",
      "County: Tuolumne, Number of unique years: 23\n",
      "County: Ventura, Number of unique years: 23\n",
      "County: Yolo, Number of unique years: 23\n",
      "County: Yuba, Number of unique years: 23\n"
     ]
    }
   ],
   "source": [
    "#check to make sure there is no missing info\n",
    "for county, group in weather.groupby('County'):\n",
    "    print(f\"County: {county}, Number of unique years: {len(group['date'].dt.year.unique())}\")"
   ]
  },
  {
   "cell_type": "code",
   "execution_count": 19,
   "metadata": {},
   "outputs": [
    {
     "name": "stdout",
     "output_type": "stream",
     "text": [
      "48\n"
     ]
    }
   ],
   "source": [
    "print(len(weather['County'].unique()))"
   ]
  },
  {
   "cell_type": "markdown",
   "metadata": {},
   "source": [
    "# math \n",
    "The weather dataset has a totatl of:\n",
    "    - 9750922 instances\n",
    "    - 48 counties\n",
    "    - 23 years \n",
    "    - 365 days in a year\n",
    "    - 24 hours in a day\n",
    "\n",
    "so to verify that the number of instances is correct \n",
    "we can do 48 * 23 * 365 * 24 = 9671040\n"
   ]
  },
  {
   "cell_type": "code",
   "execution_count": 20,
   "metadata": {},
   "outputs": [
    {
     "name": "stdout",
     "output_type": "stream",
     "text": [
      "48\n"
     ]
    }
   ],
   "source": [
    "print(len(rates['County'].unique()))"
   ]
  },
  {
   "cell_type": "code",
   "execution_count": 21,
   "metadata": {},
   "outputs": [
    {
     "name": "stdout",
     "output_type": "stream",
     "text": [
      "County: Alameda, Number of unique years: 22\n",
      "County: Amador, Number of unique years: 22\n",
      "County: Berkeley, Number of unique years: 22\n",
      "County: Butte, Number of unique years: 22\n",
      "County: Calaveras, Number of unique years: 22\n",
      "County: Colusa, Number of unique years: 22\n",
      "County: ContraCosta, Number of unique years: 22\n",
      "County: ElDorado, Number of unique years: 22\n",
      "County: Fresno, Number of unique years: 22\n",
      "County: Humboldt, Number of unique years: 22\n",
      "County: Imperial, Number of unique years: 22\n",
      "County: Kern, Number of unique years: 22\n",
      "County: Kings, Number of unique years: 22\n",
      "County: Lassen, Number of unique years: 22\n",
      "County: LongBeach, Number of unique years: 22\n",
      "County: Madera, Number of unique years: 22\n",
      "County: Marin, Number of unique years: 22\n",
      "County: Mendocino, Number of unique years: 22\n",
      "County: Merced, Number of unique years: 22\n",
      "County: Monterey, Number of unique years: 22\n",
      "County: Napa, Number of unique years: 22\n",
      "County: Nevada, Number of unique years: 22\n",
      "County: Orange, Number of unique years: 22\n",
      "County: Pasadena, Number of unique years: 22\n",
      "County: Placer, Number of unique years: 22\n",
      "County: Riverside, Number of unique years: 22\n",
      "County: Sacramento, Number of unique years: 22\n",
      "County: SanBenito, Number of unique years: 22\n",
      "County: SanBernardino, Number of unique years: 22\n",
      "County: SanDiego, Number of unique years: 22\n",
      "County: SanFrancisco, Number of unique years: 22\n",
      "County: SanJoaquin, Number of unique years: 22\n",
      "County: SanLuisObispo, Number of unique years: 22\n",
      "County: SanMateo, Number of unique years: 22\n",
      "County: SantaBarbara, Number of unique years: 22\n",
      "County: SantaClara, Number of unique years: 22\n",
      "County: SantaCruz, Number of unique years: 22\n",
      "County: Siskiyou, Number of unique years: 22\n",
      "County: Solano, Number of unique years: 22\n",
      "County: Sonoma, Number of unique years: 22\n",
      "County: Stanislaus, Number of unique years: 22\n",
      "County: Sutter, Number of unique years: 22\n",
      "County: Tehama, Number of unique years: 22\n",
      "County: Tulare, Number of unique years: 22\n",
      "County: Tuolumne, Number of unique years: 22\n",
      "County: Ventura, Number of unique years: 22\n",
      "County: Yolo, Number of unique years: 22\n",
      "County: Yuba, Number of unique years: 22\n"
     ]
    }
   ],
   "source": [
    "for county, group in rates.groupby('County'):\n",
    "    print(f\"County: {county}, Number of unique years: {len(group['Year'].unique())}\")"
   ]
  },
  {
   "cell_type": "markdown",
   "metadata": {},
   "source": [
    "# This block creates the dataset without aggregation"
   ]
  },
  {
   "cell_type": "code",
   "execution_count": 30,
   "metadata": {},
   "outputs": [
    {
     "name": "stdout",
     "output_type": "stream",
     "text": [
      "X Shape: torch.Size([1056, 8760, 13])\n",
      "Y Shape: torch.Size([1056])\n"
     ]
    }
   ],
   "source": [
    "#relabel to df to make it easier to write a bunch of code with\n",
    "df = weather.copy()\n",
    "df = df.rename(columns={'date':'Date'})\n",
    "df['Year'] = df['Date'].dt.year\n",
    "df['Month'] = df['Date'].dt.month\n",
    "df['Day'] = df['Date'].dt.day\n",
    "\n",
    "#convert data back to a datteime object\n",
    "df['Date'] = pd.to_datetime(df[['Year', 'Month', 'Day']])\n",
    "df = df.drop(['Year', 'Month', 'Day'], axis=1)\n",
    "\n",
    "#these will be temporarya for creating the data into the shape that will go into the tensors\n",
    "x_list = []\n",
    "y_list = []\n",
    "\n",
    "hours_per_year = 24 * 365\n",
    "\n",
    "#used for data normalization\n",
    "scaler = MinMaxScaler()\n",
    "\n",
    "#outer loop ranges over the years to create a date for filtering through the df\n",
    "for year in range(2000, 2022):\n",
    "    #start if on sept 1 and end is on aug 31 the following year\n",
    "    start_date = pd.Timestamp(year=year, month=9, day=1)\n",
    "    end_date = pd.Timestamp(year=year + 1, month=8, day=31)\n",
    "\n",
    "    #df for that timeframe\n",
    "    yearly_data = df[(df['Date'] >= start_date) & (df['Date'] <= end_date)]\n",
    "    \n",
    "    #loops through each county for that year and pairs it up with the cases for that county \n",
    "    for county, group in yearly_data.groupby('County'):\n",
    "        #the rate for the counnty currently on\n",
    "        rate = rates[(rates['County'] == county) & (rates['Year'] == end_date.year)]['Cases']\n",
    "        #checks for missing values\n",
    "        if not rate.empty:\n",
    "            # both are objects and would also not add to learing the weather parameters so we drop them from thoe dataset\n",
    "            group = group.drop(['County', 'Date'], axis=1)  \n",
    "\n",
    "            #ensures that there is the correct amont of instances in the group            \n",
    "            if group.shape[0] >= hours_per_year:\n",
    "                #slices the data so there is no extra\n",
    "                group = group.iloc[:hours_per_year]\n",
    "                #normalizes the data\n",
    "                scaled = scaler.fit_transform(group)\n",
    "                group = pd.DataFrame(scaled, columns=group.columns)\n",
    "                #middlestep for converting to torch tensors\n",
    "                x_arr = group.values\n",
    "                y_arr = rate.values[0]  \n",
    "                #convert the df values to a torch tensor then psh it to the list\n",
    "                x_list.append(torch.from_numpy(x_arr.astype(np.float32)))\n",
    "                y_list.append(torch.tensor(y_arr, dtype=torch.float32))\n",
    "#converts the list into a torch tensor\n",
    "x_tensor = torch.stack(x_list, dim=0)\n",
    "y_tensor = torch.stack(y_list, dim=0) \n",
    "\n",
    "torch.save(x_tensor, '../../data/dataset/x_06_04_24.pt')\n",
    "torch.save(y_tensor, '../../data/dataset/y_06_04_24.pt')\n",
    "\n",
    "print(f'X Shape: {x_tensor.shape}')\n",
    "print(f'Y Shape: {y_tensor.shape}')"
   ]
  },
  {
   "cell_type": "code",
   "execution_count": 31,
   "metadata": {},
   "outputs": [],
   "source": [
    "def add_input_noise(X, noise_level=0.01):\n",
    "    noise = torch.randn(X.size()) * noise_level\n",
    "    return X + noise\n",
    "\n",
    "x_augmented = add_input_noise(x_tensor)\n",
    "x_combined = torch.cat([x_tensor, x_augmented], dim=0)\n",
    "y_combined = torch.cat([y_tensor, y_tensor], dim=0)\n",
    "\n",
    "x_augmented_second = add_input_noise(x_combined, 0.001)\n",
    "x_combined_final = torch.cat([x_combined, x_augmented_second], dim=0)\n",
    "y_combined_final = torch.cat([y_combined, y_combined], dim=0)"
   ]
  },
  {
   "cell_type": "code",
   "execution_count": 32,
   "metadata": {},
   "outputs": [
    {
     "data": {
      "text/plain": [
       "torch.Size([4224, 8760, 13])"
      ]
     },
     "execution_count": 32,
     "metadata": {},
     "output_type": "execute_result"
    }
   ],
   "source": [
    "x_combined_final.shape"
   ]
  },
  {
   "cell_type": "code",
   "execution_count": 33,
   "metadata": {},
   "outputs": [
    {
     "data": {
      "text/plain": [
       "torch.Size([4224])"
      ]
     },
     "execution_count": 33,
     "metadata": {},
     "output_type": "execute_result"
    }
   ],
   "source": [
    "y_combined_final.shape"
   ]
  },
  {
   "cell_type": "code",
   "execution_count": 34,
   "metadata": {},
   "outputs": [],
   "source": [
    "torch.save(x_combined_final, '../../data/augmented_dataset/x_augmented_06_04_24.pt')\n",
    "torch.save(y_combined_final, '../../data/augmented_dataset/y_augmented_06_04_24.pt')"
   ]
  },
  {
   "cell_type": "code",
   "execution_count": 36,
   "metadata": {},
   "outputs": [
    {
     "name": "stdout",
     "output_type": "stream",
     "text": [
      "torch.Size([4224, 365, 13])\n",
      "torch.Size([4224])\n"
     ]
    }
   ],
   "source": [
    "##aggredate the dataset so they will be smaller sequence lengths\n",
    "x = x_combined_final.view(4224,365,24,13)\n",
    "\n",
    "x = x.mean(dim=2)\n",
    "print(x.shape)\n",
    "print(y_combined_final.shape)"
   ]
  },
  {
   "cell_type": "code",
   "execution_count": 37,
   "metadata": {},
   "outputs": [],
   "source": [
    "torch.save(x, '../../data/aggregated_dataset/x_augmented_and_aggregated_06_05_24.pt')\n",
    "torch.save(y_combined_final, '../../data/aggregated_dataset/y_augmented_and_aggregated_06_05_24.pt')"
   ]
  },
  {
   "cell_type": "code",
   "execution_count": null,
   "metadata": {},
   "outputs": [],
   "source": []
  },
  {
   "cell_type": "code",
   "execution_count": null,
   "metadata": {},
   "outputs": [],
   "source": []
  },
  {
   "cell_type": "code",
   "execution_count": null,
   "metadata": {},
   "outputs": [],
   "source": []
  },
  {
   "cell_type": "code",
   "execution_count": null,
   "metadata": {},
   "outputs": [],
   "source": []
  },
  {
   "cell_type": "code",
   "execution_count": null,
   "metadata": {},
   "outputs": [],
   "source": []
  },
  {
   "cell_type": "code",
   "execution_count": null,
   "metadata": {},
   "outputs": [],
   "source": []
  },
  {
   "cell_type": "code",
   "execution_count": null,
   "metadata": {},
   "outputs": [],
   "source": []
  },
  {
   "cell_type": "code",
   "execution_count": null,
   "metadata": {},
   "outputs": [],
   "source": []
  },
  {
   "cell_type": "code",
   "execution_count": null,
   "metadata": {},
   "outputs": [],
   "source": []
  },
  {
   "cell_type": "code",
   "execution_count": null,
   "metadata": {},
   "outputs": [],
   "source": []
  },
  {
   "cell_type": "code",
   "execution_count": null,
   "metadata": {},
   "outputs": [],
   "source": []
  },
  {
   "cell_type": "code",
   "execution_count": null,
   "metadata": {},
   "outputs": [],
   "source": []
  },
  {
   "cell_type": "code",
   "execution_count": null,
   "metadata": {},
   "outputs": [],
   "source": []
  }
 ],
 "metadata": {
  "kernelspec": {
   "display_name": "valley_fever",
   "language": "python",
   "name": "python3"
  },
  "language_info": {
   "codemirror_mode": {
    "name": "ipython",
    "version": 3
   },
   "file_extension": ".py",
   "mimetype": "text/x-python",
   "name": "python",
   "nbconvert_exporter": "python",
   "pygments_lexer": "ipython3",
   "version": "3.8.15"
  }
 },
 "nbformat": 4,
 "nbformat_minor": 2
}
