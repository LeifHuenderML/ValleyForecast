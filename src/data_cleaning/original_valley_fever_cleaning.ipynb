{
 "cells": [
  {
   "cell_type": "code",
   "execution_count": 1,
   "metadata": {},
   "outputs": [
    {
     "name": "stdout",
     "output_type": "stream",
     "text": [
      "Done\n"
     ]
    }
   ],
   "source": [
    "import pandas as pd\n",
    "\n",
    "print('Done')"
   ]
  },
  {
   "cell_type": "code",
   "execution_count": 2,
   "metadata": {},
   "outputs": [
    {
     "data": {
      "text/html": [
       "<div>\n",
       "<style scoped>\n",
       "    .dataframe tbody tr th:only-of-type {\n",
       "        vertical-align: middle;\n",
       "    }\n",
       "\n",
       "    .dataframe tbody tr th {\n",
       "        vertical-align: top;\n",
       "    }\n",
       "\n",
       "    .dataframe thead th {\n",
       "        text-align: right;\n",
       "    }\n",
       "</style>\n",
       "<table border=\"1\" class=\"dataframe\">\n",
       "  <thead>\n",
       "    <tr style=\"text-align: right;\">\n",
       "      <th></th>\n",
       "      <th>Valley Fever Cases and Incidence Rates by Local Health Jurisdiction, California, 2001-2022</th>\n",
       "      <th>Unnamed: 1</th>\n",
       "      <th>Unnamed: 2</th>\n",
       "      <th>Unnamed: 3</th>\n",
       "    </tr>\n",
       "  </thead>\n",
       "  <tbody>\n",
       "    <tr>\n",
       "      <th>0</th>\n",
       "      <td>Local Health Jurisdiction</td>\n",
       "      <td>Year of Estimated Illness Onset</td>\n",
       "      <td>Cases</td>\n",
       "      <td>Rate</td>\n",
       "    </tr>\n",
       "    <tr>\n",
       "      <th>1</th>\n",
       "      <td>ALAMEDA</td>\n",
       "      <td>2001</td>\n",
       "      <td>7</td>\n",
       "      <td>0.5*</td>\n",
       "    </tr>\n",
       "    <tr>\n",
       "      <th>2</th>\n",
       "      <td>ALAMEDA</td>\n",
       "      <td>2002</td>\n",
       "      <td>2</td>\n",
       "      <td>0.1*</td>\n",
       "    </tr>\n",
       "    <tr>\n",
       "      <th>3</th>\n",
       "      <td>ALAMEDA</td>\n",
       "      <td>2003</td>\n",
       "      <td>9</td>\n",
       "      <td>0.7*</td>\n",
       "    </tr>\n",
       "    <tr>\n",
       "      <th>4</th>\n",
       "      <td>ALAMEDA</td>\n",
       "      <td>2004</td>\n",
       "      <td>12</td>\n",
       "      <td>0.9*</td>\n",
       "    </tr>\n",
       "  </tbody>\n",
       "</table>\n",
       "</div>"
      ],
      "text/plain": [
       "  Valley Fever Cases and Incidence Rates by Local Health Jurisdiction, California, 2001-2022   \\\n",
       "0                          Local Health Jurisdiction                                            \n",
       "1                                            ALAMEDA                                            \n",
       "2                                            ALAMEDA                                            \n",
       "3                                            ALAMEDA                                            \n",
       "4                                            ALAMEDA                                            \n",
       "\n",
       "                        Unnamed: 1 Unnamed: 2 Unnamed: 3  \n",
       "0  Year of Estimated Illness Onset      Cases       Rate  \n",
       "1                             2001          7       0.5*  \n",
       "2                             2002          2       0.1*  \n",
       "3                             2003          9       0.7*  \n",
       "4                             2004         12       0.9*  "
      ]
     },
     "execution_count": 2,
     "metadata": {},
     "output_type": "execute_result"
    }
   ],
   "source": [
    "df = pd.read_excel('../../data/original_datasets/ValleyFeverDashboard_Data.xlsx')\n",
    "df.head()"
   ]
  },
  {
   "cell_type": "code",
   "execution_count": null,
   "metadata": {},
   "outputs": [],
   "source": []
  },
  {
   "cell_type": "markdown",
   "metadata": {},
   "source": [
    "# there is an issue wit the original document where they inclued the title as a top row so i will remove that"
   ]
  },
  {
   "cell_type": "code",
   "execution_count": 3,
   "metadata": {},
   "outputs": [
    {
     "name": "stdout",
     "output_type": "stream",
     "text": [
      "Index(['Valley Fever Cases and Incidence Rates by Local Health Jurisdiction, California, 2001-2022 ',\n",
      "       'Unnamed: 1', 'Unnamed: 2', 'Unnamed: 3'],\n",
      "      dtype='object')\n"
     ]
    }
   ],
   "source": [
    "print(df.columns)"
   ]
  },
  {
   "cell_type": "code",
   "execution_count": 4,
   "metadata": {},
   "outputs": [
    {
     "data": {
      "text/html": [
       "<div>\n",
       "<style scoped>\n",
       "    .dataframe tbody tr th:only-of-type {\n",
       "        vertical-align: middle;\n",
       "    }\n",
       "\n",
       "    .dataframe tbody tr th {\n",
       "        vertical-align: top;\n",
       "    }\n",
       "\n",
       "    .dataframe thead th {\n",
       "        text-align: right;\n",
       "    }\n",
       "</style>\n",
       "<table border=\"1\" class=\"dataframe\">\n",
       "  <thead>\n",
       "    <tr style=\"text-align: right;\">\n",
       "      <th></th>\n",
       "      <th>County</th>\n",
       "      <th>Year</th>\n",
       "      <th>Cases</th>\n",
       "      <th>Rate</th>\n",
       "    </tr>\n",
       "  </thead>\n",
       "  <tbody>\n",
       "    <tr>\n",
       "      <th>0</th>\n",
       "      <td>Local Health Jurisdiction</td>\n",
       "      <td>Year of Estimated Illness Onset</td>\n",
       "      <td>Cases</td>\n",
       "      <td>Rate</td>\n",
       "    </tr>\n",
       "    <tr>\n",
       "      <th>1</th>\n",
       "      <td>ALAMEDA</td>\n",
       "      <td>2001</td>\n",
       "      <td>7</td>\n",
       "      <td>0.5*</td>\n",
       "    </tr>\n",
       "    <tr>\n",
       "      <th>2</th>\n",
       "      <td>ALAMEDA</td>\n",
       "      <td>2002</td>\n",
       "      <td>2</td>\n",
       "      <td>0.1*</td>\n",
       "    </tr>\n",
       "    <tr>\n",
       "      <th>3</th>\n",
       "      <td>ALAMEDA</td>\n",
       "      <td>2003</td>\n",
       "      <td>9</td>\n",
       "      <td>0.7*</td>\n",
       "    </tr>\n",
       "    <tr>\n",
       "      <th>4</th>\n",
       "      <td>ALAMEDA</td>\n",
       "      <td>2004</td>\n",
       "      <td>12</td>\n",
       "      <td>0.9*</td>\n",
       "    </tr>\n",
       "  </tbody>\n",
       "</table>\n",
       "</div>"
      ],
      "text/plain": [
       "                      County                             Year  Cases  Rate\n",
       "0  Local Health Jurisdiction  Year of Estimated Illness Onset  Cases  Rate\n",
       "1                    ALAMEDA                             2001      7  0.5*\n",
       "2                    ALAMEDA                             2002      2  0.1*\n",
       "3                    ALAMEDA                             2003      9  0.7*\n",
       "4                    ALAMEDA                             2004     12  0.9*"
      ]
     },
     "execution_count": 4,
     "metadata": {},
     "output_type": "execute_result"
    }
   ],
   "source": [
    "df = df.rename(columns={\n",
    "    'Valley Fever Cases and Incidence Rates by Local Health Jurisdiction, California, 2001-2022 ' : 'County',\n",
    "    'Unnamed: 1' : 'Year',\n",
    "    'Unnamed: 2' : 'Cases', \n",
    "    'Unnamed: 3' : 'Rate'\n",
    "})\n",
    "df.head()"
   ]
  },
  {
   "cell_type": "code",
   "execution_count": 5,
   "metadata": {},
   "outputs": [
    {
     "data": {
      "text/html": [
       "<div>\n",
       "<style scoped>\n",
       "    .dataframe tbody tr th:only-of-type {\n",
       "        vertical-align: middle;\n",
       "    }\n",
       "\n",
       "    .dataframe tbody tr th {\n",
       "        vertical-align: top;\n",
       "    }\n",
       "\n",
       "    .dataframe thead th {\n",
       "        text-align: right;\n",
       "    }\n",
       "</style>\n",
       "<table border=\"1\" class=\"dataframe\">\n",
       "  <thead>\n",
       "    <tr style=\"text-align: right;\">\n",
       "      <th></th>\n",
       "      <th>County</th>\n",
       "      <th>Year</th>\n",
       "      <th>Cases</th>\n",
       "      <th>Rate</th>\n",
       "    </tr>\n",
       "  </thead>\n",
       "  <tbody>\n",
       "    <tr>\n",
       "      <th>1</th>\n",
       "      <td>ALAMEDA</td>\n",
       "      <td>2001</td>\n",
       "      <td>7</td>\n",
       "      <td>0.5*</td>\n",
       "    </tr>\n",
       "    <tr>\n",
       "      <th>2</th>\n",
       "      <td>ALAMEDA</td>\n",
       "      <td>2002</td>\n",
       "      <td>2</td>\n",
       "      <td>0.1*</td>\n",
       "    </tr>\n",
       "    <tr>\n",
       "      <th>3</th>\n",
       "      <td>ALAMEDA</td>\n",
       "      <td>2003</td>\n",
       "      <td>9</td>\n",
       "      <td>0.7*</td>\n",
       "    </tr>\n",
       "    <tr>\n",
       "      <th>4</th>\n",
       "      <td>ALAMEDA</td>\n",
       "      <td>2004</td>\n",
       "      <td>12</td>\n",
       "      <td>0.9*</td>\n",
       "    </tr>\n",
       "    <tr>\n",
       "      <th>5</th>\n",
       "      <td>ALAMEDA</td>\n",
       "      <td>2005</td>\n",
       "      <td>11</td>\n",
       "      <td>0.8*</td>\n",
       "    </tr>\n",
       "  </tbody>\n",
       "</table>\n",
       "</div>"
      ],
      "text/plain": [
       "    County  Year Cases  Rate\n",
       "1  ALAMEDA  2001     7  0.5*\n",
       "2  ALAMEDA  2002     2  0.1*\n",
       "3  ALAMEDA  2003     9  0.7*\n",
       "4  ALAMEDA  2004    12  0.9*\n",
       "5  ALAMEDA  2005    11  0.8*"
      ]
     },
     "execution_count": 5,
     "metadata": {},
     "output_type": "execute_result"
    }
   ],
   "source": [
    "# the first row is redundand so i am dropping it \n",
    "df.drop(index=df.index[0], axis=0, inplace=True)\n",
    "df.head()"
   ]
  },
  {
   "cell_type": "code",
   "execution_count": 6,
   "metadata": {},
   "outputs": [
    {
     "data": {
      "text/html": [
       "<div>\n",
       "<style scoped>\n",
       "    .dataframe tbody tr th:only-of-type {\n",
       "        vertical-align: middle;\n",
       "    }\n",
       "\n",
       "    .dataframe tbody tr th {\n",
       "        vertical-align: top;\n",
       "    }\n",
       "\n",
       "    .dataframe thead th {\n",
       "        text-align: right;\n",
       "    }\n",
       "</style>\n",
       "<table border=\"1\" class=\"dataframe\">\n",
       "  <thead>\n",
       "    <tr style=\"text-align: right;\">\n",
       "      <th></th>\n",
       "      <th>County</th>\n",
       "      <th>Year</th>\n",
       "      <th>Cases</th>\n",
       "      <th>Rate</th>\n",
       "    </tr>\n",
       "  </thead>\n",
       "  <tbody>\n",
       "    <tr>\n",
       "      <th>1405</th>\n",
       "      <td>YUBA</td>\n",
       "      <td>2019</td>\n",
       "      <td>5</td>\n",
       "      <td>6.2*</td>\n",
       "    </tr>\n",
       "    <tr>\n",
       "      <th>1406</th>\n",
       "      <td>YUBA</td>\n",
       "      <td>2020</td>\n",
       "      <td>2</td>\n",
       "      <td>2.4*</td>\n",
       "    </tr>\n",
       "    <tr>\n",
       "      <th>1407</th>\n",
       "      <td>YUBA</td>\n",
       "      <td>2021</td>\n",
       "      <td>2</td>\n",
       "      <td>2.4*</td>\n",
       "    </tr>\n",
       "    <tr>\n",
       "      <th>1408</th>\n",
       "      <td>YUBA</td>\n",
       "      <td>2022</td>\n",
       "      <td>2</td>\n",
       "      <td>2.4*</td>\n",
       "    </tr>\n",
       "    <tr>\n",
       "      <th>1409</th>\n",
       "      <td>*Potentially unreliable rate: relative standar...</td>\n",
       "      <td>NaN</td>\n",
       "      <td>NaN</td>\n",
       "      <td>NaN</td>\n",
       "    </tr>\n",
       "  </tbody>\n",
       "</table>\n",
       "</div>"
      ],
      "text/plain": [
       "                                                 County  Year Cases  Rate\n",
       "1405                                               YUBA  2019     5  6.2*\n",
       "1406                                               YUBA  2020     2  2.4*\n",
       "1407                                               YUBA  2021     2  2.4*\n",
       "1408                                               YUBA  2022     2  2.4*\n",
       "1409  *Potentially unreliable rate: relative standar...   NaN   NaN   NaN"
      ]
     },
     "execution_count": 6,
     "metadata": {},
     "output_type": "execute_result"
    }
   ],
   "source": [
    "df.tail()"
   ]
  },
  {
   "cell_type": "code",
   "execution_count": 7,
   "metadata": {},
   "outputs": [
    {
     "data": {
      "text/html": [
       "<div>\n",
       "<style scoped>\n",
       "    .dataframe tbody tr th:only-of-type {\n",
       "        vertical-align: middle;\n",
       "    }\n",
       "\n",
       "    .dataframe tbody tr th {\n",
       "        vertical-align: top;\n",
       "    }\n",
       "\n",
       "    .dataframe thead th {\n",
       "        text-align: right;\n",
       "    }\n",
       "</style>\n",
       "<table border=\"1\" class=\"dataframe\">\n",
       "  <thead>\n",
       "    <tr style=\"text-align: right;\">\n",
       "      <th></th>\n",
       "      <th>County</th>\n",
       "      <th>Year</th>\n",
       "      <th>Cases</th>\n",
       "      <th>Rate</th>\n",
       "    </tr>\n",
       "  </thead>\n",
       "  <tbody>\n",
       "    <tr>\n",
       "      <th>1404</th>\n",
       "      <td>YUBA</td>\n",
       "      <td>2018</td>\n",
       "      <td>2</td>\n",
       "      <td>2.5*</td>\n",
       "    </tr>\n",
       "    <tr>\n",
       "      <th>1405</th>\n",
       "      <td>YUBA</td>\n",
       "      <td>2019</td>\n",
       "      <td>5</td>\n",
       "      <td>6.2*</td>\n",
       "    </tr>\n",
       "    <tr>\n",
       "      <th>1406</th>\n",
       "      <td>YUBA</td>\n",
       "      <td>2020</td>\n",
       "      <td>2</td>\n",
       "      <td>2.4*</td>\n",
       "    </tr>\n",
       "    <tr>\n",
       "      <th>1407</th>\n",
       "      <td>YUBA</td>\n",
       "      <td>2021</td>\n",
       "      <td>2</td>\n",
       "      <td>2.4*</td>\n",
       "    </tr>\n",
       "    <tr>\n",
       "      <th>1408</th>\n",
       "      <td>YUBA</td>\n",
       "      <td>2022</td>\n",
       "      <td>2</td>\n",
       "      <td>2.4*</td>\n",
       "    </tr>\n",
       "  </tbody>\n",
       "</table>\n",
       "</div>"
      ],
      "text/plain": [
       "     County  Year Cases  Rate\n",
       "1404   YUBA  2018     2  2.5*\n",
       "1405   YUBA  2019     5  6.2*\n",
       "1406   YUBA  2020     2  2.4*\n",
       "1407   YUBA  2021     2  2.4*\n",
       "1408   YUBA  2022     2  2.4*"
      ]
     },
     "execution_count": 7,
     "metadata": {},
     "output_type": "execute_result"
    }
   ],
   "source": [
    "#the bottom row is off too so i am dropping it \n",
    "df.drop(index=df.index[-1], axis=0, inplace=True)\n",
    "df.tail()"
   ]
  },
  {
   "cell_type": "code",
   "execution_count": 8,
   "metadata": {},
   "outputs": [
    {
     "name": "stdout",
     "output_type": "stream",
     "text": [
      "County    object\n",
      "Year      object\n",
      "Cases     object\n",
      "Rate      object\n",
      "dtype: object\n"
     ]
    }
   ],
   "source": [
    "#i suscpect the rate dtype is an object instead of a float\n",
    "print(df.dtypes)\n"
   ]
  },
  {
   "cell_type": "code",
   "execution_count": 9,
   "metadata": {},
   "outputs": [
    {
     "name": "stdout",
     "output_type": "stream",
     "text": [
      "County     object\n",
      "Year        int64\n",
      "Cases       int64\n",
      "Rate      float64\n",
      "dtype: object\n"
     ]
    },
    {
     "data": {
      "text/html": [
       "<div>\n",
       "<style scoped>\n",
       "    .dataframe tbody tr th:only-of-type {\n",
       "        vertical-align: middle;\n",
       "    }\n",
       "\n",
       "    .dataframe tbody tr th {\n",
       "        vertical-align: top;\n",
       "    }\n",
       "\n",
       "    .dataframe thead th {\n",
       "        text-align: right;\n",
       "    }\n",
       "</style>\n",
       "<table border=\"1\" class=\"dataframe\">\n",
       "  <thead>\n",
       "    <tr style=\"text-align: right;\">\n",
       "      <th></th>\n",
       "      <th>County</th>\n",
       "      <th>Year</th>\n",
       "      <th>Cases</th>\n",
       "      <th>Rate</th>\n",
       "    </tr>\n",
       "  </thead>\n",
       "  <tbody>\n",
       "    <tr>\n",
       "      <th>1</th>\n",
       "      <td>ALAMEDA</td>\n",
       "      <td>2001</td>\n",
       "      <td>7</td>\n",
       "      <td>0.5</td>\n",
       "    </tr>\n",
       "    <tr>\n",
       "      <th>2</th>\n",
       "      <td>ALAMEDA</td>\n",
       "      <td>2002</td>\n",
       "      <td>2</td>\n",
       "      <td>0.1</td>\n",
       "    </tr>\n",
       "    <tr>\n",
       "      <th>3</th>\n",
       "      <td>ALAMEDA</td>\n",
       "      <td>2003</td>\n",
       "      <td>9</td>\n",
       "      <td>0.7</td>\n",
       "    </tr>\n",
       "    <tr>\n",
       "      <th>4</th>\n",
       "      <td>ALAMEDA</td>\n",
       "      <td>2004</td>\n",
       "      <td>12</td>\n",
       "      <td>0.9</td>\n",
       "    </tr>\n",
       "    <tr>\n",
       "      <th>5</th>\n",
       "      <td>ALAMEDA</td>\n",
       "      <td>2005</td>\n",
       "      <td>11</td>\n",
       "      <td>0.8</td>\n",
       "    </tr>\n",
       "  </tbody>\n",
       "</table>\n",
       "</div>"
      ],
      "text/plain": [
       "    County  Year  Cases  Rate\n",
       "1  ALAMEDA  2001      7   0.5\n",
       "2  ALAMEDA  2002      2   0.1\n",
       "3  ALAMEDA  2003      9   0.7\n",
       "4  ALAMEDA  2004     12   0.9\n",
       "5  ALAMEDA  2005     11   0.8"
      ]
     },
     "execution_count": 9,
     "metadata": {},
     "output_type": "execute_result"
    }
   ],
   "source": [
    "#int looks like they all are so i am going to fix it so that the year, cases and rate columns are made into int and floats\n",
    "\n",
    "#change to ints\n",
    "df[['Year', 'Cases']] = df[['Year', 'Cases']].astype(int)\n",
    "\n",
    "# remove all the asterisks frm the number and change to float\n",
    "df['Rate'] = df['Rate'].str.replace('*', '')\n",
    "df['Rate'] = pd.to_numeric(df['Rate'], errors='coerce')\n",
    "\n",
    "print(df.dtypes)\n",
    "df.head()"
   ]
  },
  {
   "cell_type": "code",
   "execution_count": 11,
   "metadata": {},
   "outputs": [],
   "source": [
    "df.to_csv('../../data/valley_fever_rates/valley_fever_rates_05_30_24.csv', index=False)"
   ]
  },
  {
   "cell_type": "code",
   "execution_count": null,
   "metadata": {},
   "outputs": [],
   "source": []
  }
 ],
 "metadata": {
  "kernelspec": {
   "display_name": "valley_fever",
   "language": "python",
   "name": "python3"
  },
  "language_info": {
   "codemirror_mode": {
    "name": "ipython",
    "version": 3
   },
   "file_extension": ".py",
   "mimetype": "text/x-python",
   "name": "python",
   "nbconvert_exporter": "python",
   "pygments_lexer": "ipython3",
   "version": "3.8.19"
  }
 },
 "nbformat": 4,
 "nbformat_minor": 2
}
