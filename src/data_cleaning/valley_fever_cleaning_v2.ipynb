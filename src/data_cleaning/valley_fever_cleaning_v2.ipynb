{
 "cells": [
  {
   "cell_type": "code",
   "execution_count": 11,
   "metadata": {},
   "outputs": [],
   "source": [
    "import pandas as pd"
   ]
  },
  {
   "cell_type": "code",
   "execution_count": 12,
   "metadata": {},
   "outputs": [
    {
     "name": "stdout",
     "output_type": "stream",
     "text": [
      "(1408, 4)\n"
     ]
    },
    {
     "data": {
      "text/html": [
       "<div>\n",
       "<style scoped>\n",
       "    .dataframe tbody tr th:only-of-type {\n",
       "        vertical-align: middle;\n",
       "    }\n",
       "\n",
       "    .dataframe tbody tr th {\n",
       "        vertical-align: top;\n",
       "    }\n",
       "\n",
       "    .dataframe thead th {\n",
       "        text-align: right;\n",
       "    }\n",
       "</style>\n",
       "<table border=\"1\" class=\"dataframe\">\n",
       "  <thead>\n",
       "    <tr style=\"text-align: right;\">\n",
       "      <th></th>\n",
       "      <th>County</th>\n",
       "      <th>Year</th>\n",
       "      <th>Cases</th>\n",
       "      <th>Rate</th>\n",
       "    </tr>\n",
       "  </thead>\n",
       "  <tbody>\n",
       "    <tr>\n",
       "      <th>0</th>\n",
       "      <td>ALAMEDA</td>\n",
       "      <td>2001</td>\n",
       "      <td>7</td>\n",
       "      <td>0.5</td>\n",
       "    </tr>\n",
       "    <tr>\n",
       "      <th>1</th>\n",
       "      <td>ALAMEDA</td>\n",
       "      <td>2002</td>\n",
       "      <td>2</td>\n",
       "      <td>0.1</td>\n",
       "    </tr>\n",
       "    <tr>\n",
       "      <th>2</th>\n",
       "      <td>ALAMEDA</td>\n",
       "      <td>2003</td>\n",
       "      <td>9</td>\n",
       "      <td>0.7</td>\n",
       "    </tr>\n",
       "    <tr>\n",
       "      <th>3</th>\n",
       "      <td>ALAMEDA</td>\n",
       "      <td>2004</td>\n",
       "      <td>12</td>\n",
       "      <td>0.9</td>\n",
       "    </tr>\n",
       "    <tr>\n",
       "      <th>4</th>\n",
       "      <td>ALAMEDA</td>\n",
       "      <td>2005</td>\n",
       "      <td>11</td>\n",
       "      <td>0.8</td>\n",
       "    </tr>\n",
       "  </tbody>\n",
       "</table>\n",
       "</div>"
      ],
      "text/plain": [
       "    County  Year  Cases  Rate\n",
       "0  ALAMEDA  2001      7   0.5\n",
       "1  ALAMEDA  2002      2   0.1\n",
       "2  ALAMEDA  2003      9   0.7\n",
       "3  ALAMEDA  2004     12   0.9\n",
       "4  ALAMEDA  2005     11   0.8"
      ]
     },
     "execution_count": 12,
     "metadata": {},
     "output_type": "execute_result"
    }
   ],
   "source": [
    "## this notebook is all about trimming down the dataset to remove any data that wont be usefull\n",
    "\n",
    "df = pd.read_csv('../../data/valley_fever_rates/valley_fever_rates_05_30_24.csv')\n",
    "print(df.shape)\n",
    "df.head()"
   ]
  },
  {
   "cell_type": "code",
   "execution_count": 13,
   "metadata": {},
   "outputs": [
    {
     "name": "stdout",
     "output_type": "stream",
     "text": [
      "['ALAMEDA' 'ALAMEDA COUNTY TOTAL' 'ALPINE' 'AMADOR' 'BERKELEY' 'BUTTE'\n",
      " 'CALAVERAS' 'CALIFORNIA TOTAL' 'COLUSA' 'CONTRA COSTA' 'DEL NORTE'\n",
      " 'EL DORADO' 'FRESNO' 'GLENN' 'HUMBOLDT' 'IMPERIAL' 'INYO' 'KERN' 'KINGS'\n",
      " 'LAKE' 'LASSEN' 'LONG BEACH' 'LOS ANGELES' 'LOS ANGELES COUNTY TOTAL'\n",
      " 'MADERA' 'MARIN' 'MARIPOSA' 'MENDOCINO' 'MERCED' 'MODOC' 'MONO'\n",
      " 'MONTEREY' 'NAPA' 'NEVADA' 'ORANGE' 'PASADENA' 'PLACER' 'PLUMAS'\n",
      " 'RIVERSIDE' 'SACRAMENTO' 'SAN BENITO' 'SAN BERNARDINO' 'SAN DIEGO'\n",
      " 'SAN FRANCISCO' 'SAN JOAQUIN' 'SAN LUIS OBISPO' 'SAN MATEO'\n",
      " 'SANTA BARBARA' 'SANTA CLARA' 'SANTA CRUZ' 'SHASTA' 'SIERRA' 'SISKIYOU'\n",
      " 'SOLANO' 'SONOMA' 'STANISLAUS' 'SUTTER' 'TEHAMA' 'TRINITY' 'TULARE'\n",
      " 'TUOLUMNE' 'VENTURA' 'YOLO' 'YUBA']\n"
     ]
    }
   ],
   "source": [
    "print(df['County'].unique())"
   ]
  },
  {
   "cell_type": "code",
   "execution_count": 14,
   "metadata": {},
   "outputs": [
    {
     "name": "stdout",
     "output_type": "stream",
     "text": [
      "(1342, 4)\n",
      "['ALAMEDA' 'ALPINE' 'AMADOR' 'BERKELEY' 'BUTTE' 'CALAVERAS' 'COLUSA'\n",
      " 'CONTRA COSTA' 'DEL NORTE' 'EL DORADO' 'FRESNO' 'GLENN' 'HUMBOLDT'\n",
      " 'IMPERIAL' 'INYO' 'KERN' 'KINGS' 'LAKE' 'LASSEN' 'LONG BEACH'\n",
      " 'LOS ANGELES' 'MADERA' 'MARIN' 'MARIPOSA' 'MENDOCINO' 'MERCED' 'MODOC'\n",
      " 'MONO' 'MONTEREY' 'NAPA' 'NEVADA' 'ORANGE' 'PASADENA' 'PLACER' 'PLUMAS'\n",
      " 'RIVERSIDE' 'SACRAMENTO' 'SAN BENITO' 'SAN BERNARDINO' 'SAN DIEGO'\n",
      " 'SAN FRANCISCO' 'SAN JOAQUIN' 'SAN LUIS OBISPO' 'SAN MATEO'\n",
      " 'SANTA BARBARA' 'SANTA CLARA' 'SANTA CRUZ' 'SHASTA' 'SIERRA' 'SISKIYOU'\n",
      " 'SOLANO' 'SONOMA' 'STANISLAUS' 'SUTTER' 'TEHAMA' 'TRINITY' 'TULARE'\n",
      " 'TUOLUMNE' 'VENTURA' 'YOLO' 'YUBA']\n"
     ]
    },
    {
     "data": {
      "text/html": [
       "<div>\n",
       "<style scoped>\n",
       "    .dataframe tbody tr th:only-of-type {\n",
       "        vertical-align: middle;\n",
       "    }\n",
       "\n",
       "    .dataframe tbody tr th {\n",
       "        vertical-align: top;\n",
       "    }\n",
       "\n",
       "    .dataframe thead th {\n",
       "        text-align: right;\n",
       "    }\n",
       "</style>\n",
       "<table border=\"1\" class=\"dataframe\">\n",
       "  <thead>\n",
       "    <tr style=\"text-align: right;\">\n",
       "      <th></th>\n",
       "      <th>County</th>\n",
       "      <th>Year</th>\n",
       "      <th>Cases</th>\n",
       "      <th>Rate</th>\n",
       "    </tr>\n",
       "  </thead>\n",
       "  <tbody>\n",
       "    <tr>\n",
       "      <th>0</th>\n",
       "      <td>ALAMEDA</td>\n",
       "      <td>2001</td>\n",
       "      <td>7</td>\n",
       "      <td>0.5</td>\n",
       "    </tr>\n",
       "    <tr>\n",
       "      <th>1</th>\n",
       "      <td>ALAMEDA</td>\n",
       "      <td>2002</td>\n",
       "      <td>2</td>\n",
       "      <td>0.1</td>\n",
       "    </tr>\n",
       "    <tr>\n",
       "      <th>2</th>\n",
       "      <td>ALAMEDA</td>\n",
       "      <td>2003</td>\n",
       "      <td>9</td>\n",
       "      <td>0.7</td>\n",
       "    </tr>\n",
       "    <tr>\n",
       "      <th>3</th>\n",
       "      <td>ALAMEDA</td>\n",
       "      <td>2004</td>\n",
       "      <td>12</td>\n",
       "      <td>0.9</td>\n",
       "    </tr>\n",
       "    <tr>\n",
       "      <th>4</th>\n",
       "      <td>ALAMEDA</td>\n",
       "      <td>2005</td>\n",
       "      <td>11</td>\n",
       "      <td>0.8</td>\n",
       "    </tr>\n",
       "  </tbody>\n",
       "</table>\n",
       "</div>"
      ],
      "text/plain": [
       "    County  Year  Cases  Rate\n",
       "0  ALAMEDA  2001      7   0.5\n",
       "1  ALAMEDA  2002      2   0.1\n",
       "2  ALAMEDA  2003      9   0.7\n",
       "3  ALAMEDA  2004     12   0.9\n",
       "4  ALAMEDA  2005     11   0.8"
      ]
     },
     "execution_count": 14,
     "metadata": {},
     "output_type": "execute_result"
    }
   ],
   "source": [
    "# remove county totals for they are essentially duplicates and hard to get meteorological data for them\n",
    "counties_to_drop = ['ALAMEDA COUNTY TOTAL', 'CALIFORNIA TOTAL', 'LOS ANGELES COUNTY TOTAL']\n",
    "df = df.drop(df[df['County'].isin(counties_to_drop)].index, axis=0)\n",
    "print(df.shape)\n",
    "print(df['County'].unique())\n",
    "df.head()"
   ]
  },
  {
   "cell_type": "code",
   "execution_count": 15,
   "metadata": {},
   "outputs": [
    {
     "name": "stdout",
     "output_type": "stream",
     "text": [
      "County      0\n",
      "Year        0\n",
      "Cases       0\n",
      "Rate      396\n",
      "dtype: int64\n"
     ]
    }
   ],
   "source": [
    "print(df.isnull().sum())"
   ]
  },
  {
   "cell_type": "code",
   "execution_count": 16,
   "metadata": {},
   "outputs": [
    {
     "name": "stdout",
     "output_type": "stream",
     "text": [
      "(1342, 3)\n"
     ]
    },
    {
     "data": {
      "text/html": [
       "<div>\n",
       "<style scoped>\n",
       "    .dataframe tbody tr th:only-of-type {\n",
       "        vertical-align: middle;\n",
       "    }\n",
       "\n",
       "    .dataframe tbody tr th {\n",
       "        vertical-align: top;\n",
       "    }\n",
       "\n",
       "    .dataframe thead th {\n",
       "        text-align: right;\n",
       "    }\n",
       "</style>\n",
       "<table border=\"1\" class=\"dataframe\">\n",
       "  <thead>\n",
       "    <tr style=\"text-align: right;\">\n",
       "      <th></th>\n",
       "      <th>County</th>\n",
       "      <th>Year</th>\n",
       "      <th>Cases</th>\n",
       "    </tr>\n",
       "  </thead>\n",
       "  <tbody>\n",
       "    <tr>\n",
       "      <th>0</th>\n",
       "      <td>ALAMEDA</td>\n",
       "      <td>2001</td>\n",
       "      <td>7</td>\n",
       "    </tr>\n",
       "    <tr>\n",
       "      <th>1</th>\n",
       "      <td>ALAMEDA</td>\n",
       "      <td>2002</td>\n",
       "      <td>2</td>\n",
       "    </tr>\n",
       "    <tr>\n",
       "      <th>2</th>\n",
       "      <td>ALAMEDA</td>\n",
       "      <td>2003</td>\n",
       "      <td>9</td>\n",
       "    </tr>\n",
       "    <tr>\n",
       "      <th>3</th>\n",
       "      <td>ALAMEDA</td>\n",
       "      <td>2004</td>\n",
       "      <td>12</td>\n",
       "    </tr>\n",
       "    <tr>\n",
       "      <th>4</th>\n",
       "      <td>ALAMEDA</td>\n",
       "      <td>2005</td>\n",
       "      <td>11</td>\n",
       "    </tr>\n",
       "  </tbody>\n",
       "</table>\n",
       "</div>"
      ],
      "text/plain": [
       "    County  Year  Cases\n",
       "0  ALAMEDA  2001      7\n",
       "1  ALAMEDA  2002      2\n",
       "2  ALAMEDA  2003      9\n",
       "3  ALAMEDA  2004     12\n",
       "4  ALAMEDA  2005     11"
      ]
     },
     "execution_count": 16,
     "metadata": {},
     "output_type": "execute_result"
    }
   ],
   "source": [
    "#since rate is so sparse we are goint to drop that feature since we are just looking for case numbers  as our target\n",
    "\n",
    "df = df.drop('Rate', axis=1)\n",
    "print(df.shape)\n",
    "df.head()"
   ]
  },
  {
   "cell_type": "code",
   "execution_count": 31,
   "metadata": {},
   "outputs": [
    {
     "name": "stdout",
     "output_type": "stream",
     "text": [
      "The range of values in the cases are from 0 to 3385\n",
      "Number of occurrences where 'Cases' == 0: 396\n",
      "\n",
      "The places where there are no cases includes:\n",
      "['ALPINE' 'AMADOR' 'BERKELEY' 'BUTTE' 'CALAVERAS' 'COLUSA' 'DEL NORTE'\n",
      " 'EL DORADO' 'GLENN' 'HUMBOLDT' 'IMPERIAL' 'INYO' 'LAKE' 'LASSEN' 'MARIN'\n",
      " 'MARIPOSA' 'MENDOCINO' 'MODOC' 'MONO' 'NAPA' 'NEVADA' 'PASADENA' 'PLACER'\n",
      " 'PLUMAS' 'SAN BENITO' 'SAN FRANCISCO' 'SAN MATEO' 'SANTA CRUZ' 'SHASTA'\n",
      " 'SIERRA' 'SISKIYOU' 'SOLANO' 'SONOMA' 'SUTTER' 'TEHAMA' 'TRINITY'\n",
      " 'TUOLUMNE' 'YOLO' 'YUBA']\n",
      "\n",
      "The count of counties where there are zero cases: 39\n"
     ]
    }
   ],
   "source": [
    "print(f'The range of values in the cases are from {df[\"Cases\"].min()} to {df[\"Cases\"].max()}')\n",
    "count_zero_cases = (df['Cases'] == 0).sum()\n",
    "print(f\"Number of occurrences where 'Cases' == 0: {count_zero_cases}\")\n",
    "\n",
    "zero_cases = df[df['Cases'] == 0]\n",
    "print(f'\\nThe places where there are no cases includes:\\n{zero_cases[\"County\"].unique()}\\n')\n",
    "print(f'The count of counties where there are zero cases: {len(zero_cases[\"County\"].unique())}')\n"
   ]
  },
  {
   "cell_type": "code",
   "execution_count": null,
   "metadata": {},
   "outputs": [],
   "source": []
  }
 ],
 "metadata": {
  "kernelspec": {
   "display_name": "valley_fever",
   "language": "python",
   "name": "python3"
  },
  "language_info": {
   "codemirror_mode": {
    "name": "ipython",
    "version": 3
   },
   "file_extension": ".py",
   "mimetype": "text/x-python",
   "name": "python",
   "nbconvert_exporter": "python",
   "pygments_lexer": "ipython3",
   "version": "3.8.19"
  }
 },
 "nbformat": 4,
 "nbformat_minor": 2
}
