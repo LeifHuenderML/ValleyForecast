{
 "cells": [
  {
   "cell_type": "code",
   "execution_count": 1,
   "metadata": {},
   "outputs": [],
   "source": [
    "import torch\n",
    "from torch.utils.data import TensorDataset, DataLoader, random_split\n",
    "\n"
   ]
  },
  {
   "cell_type": "code",
   "execution_count": 2,
   "metadata": {},
   "outputs": [],
   "source": [
    "# regular datasets\n",
    "\n",
    "x = torch.load('../../data/dataset/x_06_04_24.pt')\n",
    "y = torch.load('../../data/dataset/y_06_04_24.pt')\n",
    "\n",
    "dataset = TensorDataset(x, y)\n",
    "\n",
    "train_len = int(0.8 * len(dataset))\n",
    "val_len = int(0.1 * len(dataset))\n",
    "test_len = len(dataset) - train_len - val_len\n",
    "generator = torch.Generator().manual_seed(42)\n",
    "train_dataset, val_dataset, test_dataset = random_split(dataset, [train_len, val_len, test_len], generator=generator)\n",
    "\n",
    "torch.save(train_dataset, '../../data/torch/regular/train_dataset.pt')\n",
    "torch.save(val_dataset, '../../data/torch/regular/val_dataset.pt')\n",
    "torch.save(test_dataset, '../../data/torch/regular/test_dataset.pt')\n"
   ]
  },
  {
   "cell_type": "code",
   "execution_count": 3,
   "metadata": {},
   "outputs": [],
   "source": [
    "# augemented\n",
    "\n",
    "\n",
    "x = torch.load('../../data/augmented_dataset/x_augmented_06_04_24.pt')\n",
    "y = torch.load('../../data/augmented_dataset/y_augmented_06_04_24.pt')\n",
    "\n",
    "dataset = TensorDataset(x, y)\n",
    "\n",
    "train_len = int(0.8 * len(dataset))\n",
    "val_len = int(0.1 * len(dataset))\n",
    "test_len = len(dataset) - train_len - val_len\n",
    "\n",
    "generator = torch.Generator().manual_seed(42)\n",
    "train_dataset, val_dataset, test_dataset = random_split(dataset, [train_len, val_len, test_len], generator=generator)\n",
    "\n",
    "\n",
    "torch.save(train_dataset, '../../data/torch/augmented/train_dataset.pt')\n",
    "torch.save(val_dataset, '../../data/torch/augmented/val_dataset.pt')\n",
    "torch.save(test_dataset, '../../data/torch/augmented/test_dataset.pt')\n"
   ]
  },
  {
   "cell_type": "code",
   "execution_count": 4,
   "metadata": {},
   "outputs": [],
   "source": [
    "## aggregrated and augmented\n",
    "x = torch.load('../../data/aggregated_dataset/x_augmented_and_aggregated_06_05_24.pt')\n",
    "y = torch.load('../../data/aggregated_dataset/y_augmented_and_aggregated_06_05_24.pt')\n",
    "\n",
    "dataset = TensorDataset(x, y)\n",
    "\n",
    "train_len = int(0.8 * len(dataset))\n",
    "val_len = int(0.1 * len(dataset))\n",
    "test_len = len(dataset) - train_len - val_len\n",
    "\n",
    "generator = torch.Generator().manual_seed(42)\n",
    "train_dataset, val_dataset, test_dataset = random_split(dataset, [train_len, val_len, test_len], generator=generator)\n",
    "\n",
    "\n",
    "torch.save(train_dataset, '../../data/torch/aggregated_augmented/train_dataset.pt')\n",
    "torch.save(val_dataset, '../../data/torch/aggregated_augmented/val_dataset.pt')\n",
    "torch.save(test_dataset, '../../data/torch/aggregated_augmented/test_dataset.pt')"
   ]
  },
  {
   "cell_type": "code",
   "execution_count": null,
   "metadata": {},
   "outputs": [],
   "source": []
  },
  {
   "cell_type": "code",
   "execution_count": null,
   "metadata": {},
   "outputs": [],
   "source": []
  },
  {
   "cell_type": "code",
   "execution_count": null,
   "metadata": {},
   "outputs": [],
   "source": []
  },
  {
   "cell_type": "code",
   "execution_count": null,
   "metadata": {},
   "outputs": [],
   "source": []
  },
  {
   "cell_type": "code",
   "execution_count": null,
   "metadata": {},
   "outputs": [],
   "source": []
  },
  {
   "cell_type": "code",
   "execution_count": null,
   "metadata": {},
   "outputs": [],
   "source": []
  },
  {
   "cell_type": "code",
   "execution_count": null,
   "metadata": {},
   "outputs": [],
   "source": []
  },
  {
   "cell_type": "code",
   "execution_count": null,
   "metadata": {},
   "outputs": [],
   "source": []
  },
  {
   "cell_type": "code",
   "execution_count": null,
   "metadata": {},
   "outputs": [],
   "source": []
  },
  {
   "cell_type": "code",
   "execution_count": null,
   "metadata": {},
   "outputs": [],
   "source": []
  },
  {
   "cell_type": "code",
   "execution_count": null,
   "metadata": {},
   "outputs": [],
   "source": []
  }
 ],
 "metadata": {
  "kernelspec": {
   "display_name": "valley_fever",
   "language": "python",
   "name": "python3"
  },
  "language_info": {
   "codemirror_mode": {
    "name": "ipython",
    "version": 3
   },
   "file_extension": ".py",
   "mimetype": "text/x-python",
   "name": "python",
   "nbconvert_exporter": "python",
   "pygments_lexer": "ipython3",
   "version": "3.8.15"
  }
 },
 "nbformat": 4,
 "nbformat_minor": 2
}
