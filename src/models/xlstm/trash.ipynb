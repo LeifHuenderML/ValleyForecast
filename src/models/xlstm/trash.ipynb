{
 "cells": [
  {
   "cell_type": "code",
   "execution_count": 1,
   "metadata": {},
   "outputs": [
    {
     "name": "stdout",
     "output_type": "stream",
     "text": [
      "s\n",
      "m\n",
      "s\n",
      "s\n"
     ]
    }
   ],
   "source": [
    "def lego(blocks):\n",
    "    '''\n",
    "    Takes a string and parses it to create a xLSTM model with the defined block stack. \n",
    "    For instance smssm would create sLSTMBlock -> mLSTMBlock -> sLSTMBlock -> sLSTMBlock -> mLSTMBlock ->\n",
    "    '''\n",
    "\n",
    "    for block in blocks:\n",
    "        if block == 's':\n",
    "            \n",
    "        elif block == 'm':\n",
    "            \n",
    "        else:\n",
    "            raise ValueError(f\"Invalid block value: {block}, block value can only be 'm' or 's'.\")\n",
    "\n",
    "\n",
    "\n",
    "lego('smss')"
   ]
  },
  {
   "cell_type": "code",
   "execution_count": null,
   "metadata": {},
   "outputs": [],
   "source": []
  }
 ],
 "metadata": {
  "kernelspec": {
   "display_name": "valley_fever",
   "language": "python",
   "name": "python3"
  },
  "language_info": {
   "codemirror_mode": {
    "name": "ipython",
    "version": 3
   },
   "file_extension": ".py",
   "mimetype": "text/x-python",
   "name": "python",
   "nbconvert_exporter": "python",
   "pygments_lexer": "ipython3",
   "version": "3.8.15"
  }
 },
 "nbformat": 4,
 "nbformat_minor": 2
}
