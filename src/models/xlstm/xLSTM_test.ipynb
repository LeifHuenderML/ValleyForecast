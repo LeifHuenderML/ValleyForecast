{
 "cells": [
  {
   "cell_type": "code",
   "execution_count": 1,
   "metadata": {},
   "outputs": [],
   "source": [
    "import xlstm\n",
    "import torch\n",
    "from torch.utils.data import DataLoader"
   ]
  },
  {
   "cell_type": "code",
   "execution_count": 2,
   "metadata": {},
   "outputs": [
    {
     "name": "stdout",
     "output_type": "stream",
     "text": [
      "====================================================================================================\n",
      "mLSTMCell input and output features\n",
      "Number of input features for w: 256\n",
      "Number of output features for w: 768\n",
      "\n",
      "====================================================================================================\n",
      "mLSTMCell input and output features\n",
      "Number of input features for w: 256\n",
      "Number of output features for w: 768\n",
      "\n",
      "====================================================================================================\n",
      "sLSTMBlock sLSTMCell_1 input and output features\n",
      "Number of input features for w: 256\n",
      "Number of output features for w: 1024\n",
      "\n",
      "Number of input features for r: 256\n",
      "Number of output features for r: 1024\n",
      "\n",
      "====================================================================================================\n",
      "sLSTMBlock sLSTMCell_1 input and output features\n",
      "Number of input features for w: 256\n",
      "Number of output features for w: 1024\n",
      "\n",
      "Number of input features for r: 256\n",
      "Number of output features for r: 1024\n",
      "\n"
     ]
    },
    {
     "name": "stderr",
     "output_type": "stream",
     "text": [
      "/home/intellect/anaconda3/envs/valley_fever/lib/python3.8/site-packages/torch/nn/init.py:452: UserWarning: Initializing zero-element tensors is a no-op\n",
      "  warnings.warn(\"Initializing zero-element tensors is a no-op\")\n"
     ]
    },
    {
     "data": {
      "text/plain": [
       "<bound method Trainer.train of <xlstm.Trainer object at 0x7f5cd5b380a0>>"
      ]
     },
     "execution_count": 2,
     "metadata": {},
     "output_type": "execute_result"
    }
   ],
   "source": [
    "train = torch.load('../../../data/cleaned/train.pt')\n",
    "batch_size = 32\n",
    "train_loader = DataLoader(train, batch_size, shuffle=True, drop_last=True)\n",
    "model = xlstm.xLSTM(input_size=19,hidden_size=256, bias=True,)\n",
    "model.to('cuda')\n",
    "trainer = xlstm.Trainer(model,train_loader)\n",
    "trainer.train"
   ]
  },
  {
   "cell_type": "markdown",
   "metadata": {},
   "source": []
  }
 ],
 "metadata": {
  "kernelspec": {
   "display_name": "valley_fever",
   "language": "python",
   "name": "python3"
  },
  "language_info": {
   "codemirror_mode": {
    "name": "ipython",
    "version": 3
   },
   "file_extension": ".py",
   "mimetype": "text/x-python",
   "name": "python",
   "nbconvert_exporter": "python",
   "pygments_lexer": "ipython3",
   "version": "3.8.15"
  }
 },
 "nbformat": 4,
 "nbformat_minor": 2
}
