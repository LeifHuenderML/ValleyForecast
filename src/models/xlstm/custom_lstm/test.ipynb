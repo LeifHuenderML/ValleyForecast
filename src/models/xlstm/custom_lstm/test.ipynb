{
 "cells": [
  {
   "cell_type": "code",
   "execution_count": 1,
   "metadata": {},
   "outputs": [],
   "source": [
    "import lstm\n",
    "import torch\n",
    "from torch.utils.data import DataLoader\n",
    "import torch.nn as nn\n",
    "import numpy as np\n",
    "import time"
   ]
  },
  {
   "cell_type": "code",
   "execution_count": 2,
   "metadata": {},
   "outputs": [],
   "source": [
    "def trainer(model, epochs, loader, loss_fn, optim):\n",
    "    losses = []\n",
    "    for epoch in range(1, epochs+1):\n",
    "        num_batches = len(loader)\n",
    "        total_loss = 0\n",
    "        for x, y in loader:\n",
    "            x, y = x.to('cuda'), y.to('cuda')\n",
    "            output = model(x)\n",
    "            loss = loss_fn(output, y)\n",
    "            optim.zero_grad()\n",
    "            loss.backward()\n",
    "            optim.step()\n",
    "            total_loss += loss.item()\n",
    "        avg_loss = total_loss/num_batches\n",
    "        avg_loss = np.sqrt(avg_loss)\n",
    "        losses.append(avg_loss)\n",
    "        print(f'Epoch {epoch} RMSE Loss: {avg_loss}')\n",
    "    return losses"
   ]
  },
  {
   "cell_type": "markdown",
   "metadata": {},
   "source": [
    "# Training evaluation for V1 "
   ]
  },
  {
   "cell_type": "code",
   "execution_count": 3,
   "metadata": {},
   "outputs": [],
   "source": [
    "train = torch.load('../../../../data/cleaned/train.pt')\n",
    "batch_size = 32\n",
    "train_loader = DataLoader(train, batch_size, shuffle=True, drop_last=True)\n",
    "model = lstm.LSTM()\n",
    "model.to('cuda')\n",
    "loss_fn = torch.nn.MSELoss()\n",
    "optim = torch.optim.Adam(params=model.parameters(), lr=0.001)\n"
   ]
  },
  {
   "cell_type": "code",
   "execution_count": 4,
   "metadata": {},
   "outputs": [
    {
     "name": "stderr",
     "output_type": "stream",
     "text": [
      "/home/intellect/anaconda3/envs/valley_fever/lib/python3.8/site-packages/torch/nn/modules/loss.py:535: UserWarning: Using a target size (torch.Size([32])) that is different to the input size (torch.Size([32, 1])). This will likely lead to incorrect results due to broadcasting. Please ensure they have the same size.\n",
      "  return F.mse_loss(input, target, reduction=self.reduction)\n"
     ]
    },
    {
     "name": "stdout",
     "output_type": "stream",
     "text": [
      "Epoch 1 RMSE Loss: 288.8092861994576\n",
      "Epoch 2 RMSE Loss: 289.2629133233709\n",
      "Epoch 3 RMSE Loss: 289.2717793958479\n",
      "Epoch 4 RMSE Loss: 288.0642687449904\n",
      "Epoch 5 RMSE Loss: 289.17177061902436\n",
      "Epoch 6 RMSE Loss: 288.5636543046708\n",
      "Epoch 7 RMSE Loss: 288.63802227286595\n",
      "Epoch 8 RMSE Loss: 289.10160842396704\n",
      "Epoch 9 RMSE Loss: 289.10756124128204\n",
      "Epoch 10 RMSE Loss: 289.17323633854903\n",
      "Epoch 11 RMSE Loss: 289.18643787945194\n",
      "Epoch 12 RMSE Loss: 286.97666004032965\n",
      "Epoch 13 RMSE Loss: 288.3206286804761\n",
      "Epoch 14 RMSE Loss: 288.97056557949986\n",
      "Epoch 15 RMSE Loss: 289.0970042109996\n",
      "Epoch 16 RMSE Loss: 289.0972441624337\n",
      "Epoch 17 RMSE Loss: 289.0918958809573\n",
      "Epoch 18 RMSE Loss: 289.07123553509734\n",
      "Epoch 19 RMSE Loss: 287.6271716883874\n",
      "Epoch 20 RMSE Loss: 288.96983792822823\n",
      "Epoch 21 RMSE Loss: 288.50742708455203\n",
      "Epoch 22 RMSE Loss: 289.11446569104146\n",
      "Epoch 23 RMSE Loss: 289.0684643280384\n",
      "Epoch 24 RMSE Loss: 289.02167528382824\n",
      "Epoch 25 RMSE Loss: 289.005149057834\n",
      "Epoch 26 RMSE Loss: 289.0807026549696\n",
      "Epoch 27 RMSE Loss: 288.9988358365561\n"
     ]
    }
   ],
   "source": [
    "start = time.time()\n",
    "losses = trainer(model, 100, train_loader, loss_fn, optim)\n",
    "end = time.time()\n",
    "\n",
    "print(f'\\nTotal training time on 100 epochs: {end-start}')"
   ]
  },
  {
   "cell_type": "markdown",
   "metadata": {},
   "source": [
    "# Training evaluation for V2"
   ]
  },
  {
   "cell_type": "code",
   "execution_count": null,
   "metadata": {},
   "outputs": [],
   "source": [
    "train = torch.load('../../../../data/cleaned/train.pt')\n",
    "batch_size = 32\n",
    "train_loader = DataLoader(train, batch_size, shuffle=True, drop_last=True)\n",
    "model = lstm.LSTMv2()\n",
    "model.to('cuda')\n",
    "loss_fn = torch.nn.MSELoss()\n",
    "optim = torch.optim.Adam(params=model.parameters(), lr=0.001)\n"
   ]
  },
  {
   "cell_type": "code",
   "execution_count": null,
   "metadata": {},
   "outputs": [],
   "source": [
    "start = time.time()\n",
    "losses = trainer(model, 100, train_loader, loss_fn, optim)\n",
    "end = time.time()\n",
    "\n",
    "print(f'\\nTotal training time on 100 epochs: {end-start}')"
   ]
  },
  {
   "cell_type": "code",
   "execution_count": null,
   "metadata": {},
   "outputs": [],
   "source": []
  },
  {
   "cell_type": "code",
   "execution_count": null,
   "metadata": {},
   "outputs": [],
   "source": []
  },
  {
   "cell_type": "code",
   "execution_count": null,
   "metadata": {},
   "outputs": [],
   "source": []
  },
  {
   "cell_type": "code",
   "execution_count": null,
   "metadata": {},
   "outputs": [],
   "source": []
  },
  {
   "cell_type": "code",
   "execution_count": null,
   "metadata": {},
   "outputs": [],
   "source": []
  },
  {
   "cell_type": "code",
   "execution_count": null,
   "metadata": {},
   "outputs": [],
   "source": []
  },
  {
   "cell_type": "code",
   "execution_count": null,
   "metadata": {},
   "outputs": [],
   "source": []
  },
  {
   "cell_type": "code",
   "execution_count": null,
   "metadata": {},
   "outputs": [],
   "source": []
  }
 ],
 "metadata": {
  "kernelspec": {
   "display_name": "valley_fever",
   "language": "python",
   "name": "python3"
  },
  "language_info": {
   "codemirror_mode": {
    "name": "ipython",
    "version": 3
   },
   "file_extension": ".py",
   "mimetype": "text/x-python",
   "name": "python",
   "nbconvert_exporter": "python",
   "pygments_lexer": "ipython3",
   "version": "3.8.15"
  }
 },
 "nbformat": 4,
 "nbformat_minor": 2
}
