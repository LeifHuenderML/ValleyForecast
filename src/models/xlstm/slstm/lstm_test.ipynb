{
 "cells": [
  {
   "cell_type": "code",
   "execution_count": 1,
   "metadata": {},
   "outputs": [],
   "source": [
    "import cell\n",
    "import torch\n",
    "from torch.utils.data import DataLoader\n",
    "import torch.nn as nn\n",
    "import numpy as np"
   ]
  },
  {
   "cell_type": "code",
   "execution_count": 2,
   "metadata": {},
   "outputs": [],
   "source": [
    "def trainer(model, epochs, loader, loss_fn, optim):\n",
    "    losses = []\n",
    "    for epoch in range(1, epochs+1):\n",
    "        num_batches = len(loader)\n",
    "        total_loss = 0\n",
    "        for x, y in loader:\n",
    "            x, y = x.to('cuda'), y.to('cuda')\n",
    "            output = model(x)\n",
    "            loss = loss_fn(output, y)\n",
    "            optim.zero_grad()\n",
    "            loss.backward()\n",
    "            optim.step()\n",
    "            total_loss += loss.item()\n",
    "        avg_loss = total_loss/num_batches\n",
    "        avg_loss = np.sqrt(avg_loss)\n",
    "        losses.append(avg_loss)\n",
    "        print(f'Epoch {epoch} RMSE Loss: {avg_loss}')\n",
    "    return losses"
   ]
  },
  {
   "cell_type": "code",
   "execution_count": 3,
   "metadata": {},
   "outputs": [],
   "source": [
    "train = torch.load('../../../../data/cleaned/train.pt')\n",
    "batch_size = 32\n",
    "train_loader = DataLoader(train, batch_size, shuffle=True, drop_last=True)\n",
    "model = cell.LSTMv2()\n",
    "model.to('cuda')\n",
    "loss_fn = torch.nn.MSELoss()\n",
    "optim = torch.optim.Adam(params=model.parameters(), lr=0.001)\n"
   ]
  },
  {
   "cell_type": "code",
   "execution_count": 4,
   "metadata": {},
   "outputs": [
    {
     "name": "stderr",
     "output_type": "stream",
     "text": [
      "/home/intellect/anaconda3/envs/valley_fever/lib/python3.8/site-packages/torch/nn/modules/loss.py:535: UserWarning: Using a target size (torch.Size([32])) that is different to the input size (torch.Size([32, 1])). This will likely lead to incorrect results due to broadcasting. Please ensure they have the same size.\n",
      "  return F.mse_loss(input, target, reduction=self.reduction)\n"
     ]
    },
    {
     "name": "stdout",
     "output_type": "stream",
     "text": [
      "Epoch 1 RMSE Loss: 288.85781033327186\n",
      "Epoch 2 RMSE Loss: 289.18401793070854\n",
      "Epoch 3 RMSE Loss: 289.08843554459014\n",
      "Epoch 4 RMSE Loss: 289.13763589012916\n",
      "Epoch 5 RMSE Loss: 289.1651859955946\n",
      "Epoch 6 RMSE Loss: 289.17981581697484\n",
      "Epoch 7 RMSE Loss: 288.6573742020649\n"
     ]
    }
   ],
   "source": [
    "trainer(model, 10, train_loader, loss_fn, optim)"
   ]
  },
  {
   "cell_type": "code",
   "execution_count": null,
   "metadata": {},
   "outputs": [],
   "source": []
  }
 ],
 "metadata": {
  "kernelspec": {
   "display_name": "valley_fever",
   "language": "python",
   "name": "python3"
  },
  "language_info": {
   "codemirror_mode": {
    "name": "ipython",
    "version": 3
   },
   "file_extension": ".py",
   "mimetype": "text/x-python",
   "name": "python",
   "nbconvert_exporter": "python",
   "pygments_lexer": "ipython3",
   "version": "3.8.15"
  }
 },
 "nbformat": 4,
 "nbformat_minor": 2
}
