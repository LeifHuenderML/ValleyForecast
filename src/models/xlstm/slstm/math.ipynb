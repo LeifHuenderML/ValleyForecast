{
 "cells": [
  {
   "cell_type": "code",
   "execution_count": 2,
   "metadata": {},
   "outputs": [
    {
     "ename": "AttributeError",
     "evalue": "module 'sympy' has no attribute 'sig'",
     "output_type": "error",
     "traceback": [
      "\u001b[0;31m---------------------------------------------------------------------------\u001b[0m",
      "\u001b[0;31mAttributeError\u001b[0m                            Traceback (most recent call last)",
      "Cell \u001b[0;32mIn[2], line 15\u001b[0m\n\u001b[1;32m     12\u001b[0m W_xc, W_hc, b_c \u001b[38;5;241m=\u001b[39m sp\u001b[38;5;241m.\u001b[39msymbols(\u001b[38;5;124m'\u001b[39m\u001b[38;5;124mW_xc W_hc b_c\u001b[39m\u001b[38;5;124m'\u001b[39m) \u001b[38;5;66;03m# Candidate cell state\u001b[39;00m\n\u001b[1;32m     14\u001b[0m \u001b[38;5;66;03m# Input gate\u001b[39;00m\n\u001b[0;32m---> 15\u001b[0m I_t \u001b[38;5;241m=\u001b[39m \u001b[43msp\u001b[49m\u001b[38;5;241;43m.\u001b[39;49m\u001b[43msig\u001b[49m(W_xi\u001b[38;5;241m*\u001b[39mX_t \u001b[38;5;241m+\u001b[39m W_hi\u001b[38;5;241m*\u001b[39mH_tm1 \u001b[38;5;241m+\u001b[39m b_i)\n\u001b[1;32m     16\u001b[0m \u001b[38;5;28mprint\u001b[39m(\u001b[38;5;124m\"\u001b[39m\u001b[38;5;124mInput Gate:\u001b[39m\u001b[38;5;124m\"\u001b[39m)\n\u001b[1;32m     17\u001b[0m \u001b[38;5;28mprint\u001b[39m(I_t)\n",
      "\u001b[0;31mAttributeError\u001b[0m: module 'sympy' has no attribute 'sig'"
     ]
    }
   ],
   "source": [
    "import sympy as sp\n",
    "\n",
    "# Define symbolic variables\n",
    "X_t = sp.symbols('X_t') # Input at time t\n",
    "H_tm1 = sp.symbols('H_tm1') # Hidden state at time t-1\n",
    "C_tm1 = sp.symbols('C_tm1') # Cell state at time t-1\n",
    "\n",
    "# Define weight matrices and biases as symbols\n",
    "W_xi, W_hi, b_i = sp.symbols('W_xi W_hi b_i') # Input gate\n",
    "W_xf, W_hf, b_f = sp.symbols('W_xf W_hf b_f') # Forget gate\n",
    "W_xo, W_ho, b_o = sp.symbols('W_xo W_ho b_o') # Output gate\n",
    "W_xc, W_hc, b_c = sp.symbols('W_xc W_hc b_c') # Candidate cell state\n",
    "\n",
    "# Input gate\n",
    "I_t = sp.sig(W_xi*X_t + W_hi*H_tm1 + b_i)\n",
    "print(\"Input Gate:\")\n",
    "print(I_t)\n",
    "\n",
    "# Forget gate \n",
    "F_t = sp.sig(W_xf*X_t + W_hf*H_tm1 + b_f)\n",
    "print(\"\\nForget Gate:\")  \n",
    "print(F_t)\n",
    "\n",
    "# Output gate\n",
    "O_t = sp.sig(W_xo*X_t + W_ho*H_tm1 + b_o)\n",
    "print(\"\\nOutput Gate:\")\n",
    "print(O_t)\n",
    "\n",
    "# Candidate cell state\n",
    "C_tilde_t = sp.tanh(W_xc*X_t + W_hc*H_tm1 + b_c)\n",
    "print(\"\\nCandidate Cell State:\")\n",
    "print(C_tilde_t)\n",
    "\n",
    "# Cell state update\n",
    "C_t = F_t*C_tm1 + I_t*C_tilde_t\n",
    "print(\"\\nCell State Update:\")\n",
    "print(C_t)\n",
    "\n",
    "# Hidden state update\n",
    "H_t = O_t*sp.tanh(C_t)\n",
    "print(\"\\nHidden State Update:\")\n",
    "print(H_t)\n"
   ]
  },
  {
   "cell_type": "code",
   "execution_count": null,
   "metadata": {},
   "outputs": [],
   "source": []
  }
 ],
 "metadata": {
  "kernelspec": {
   "display_name": "valley_fever",
   "language": "python",
   "name": "python3"
  },
  "language_info": {
   "codemirror_mode": {
    "name": "ipython",
    "version": 3
   },
   "file_extension": ".py",
   "mimetype": "text/x-python",
   "name": "python",
   "nbconvert_exporter": "python",
   "pygments_lexer": "ipython3",
   "version": "3.8.15"
  }
 },
 "nbformat": 4,
 "nbformat_minor": 2
}
