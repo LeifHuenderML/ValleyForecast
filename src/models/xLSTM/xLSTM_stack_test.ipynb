{
 "cells": [
  {
   "cell_type": "code",
   "execution_count": 1,
   "metadata": {},
   "outputs": [
    {
     "name": "stdout",
     "output_type": "stream",
     "text": [
      "Epoch 1 Train RMSE Loss: 291.0495, Val RMSE Loss: 86.1799\n",
      "Epoch 2 Train RMSE Loss: 286.9722, Val RMSE Loss: 137.5184\n",
      "Epoch 3 Train RMSE Loss: 285.4651, Val RMSE Loss: 97.9814\n",
      "Epoch 4 Train RMSE Loss: 283.5388, Val RMSE Loss: 139.8455\n",
      "Epoch 5 Train RMSE Loss: 282.4807, Val RMSE Loss: 140.7120\n",
      "Epoch 6 Train RMSE Loss: 281.0395, Val RMSE Loss: 140.3402\n",
      "Epoch 7 Train RMSE Loss: 279.4648, Val RMSE Loss: 134.8775\n",
      "Epoch 8 Train RMSE Loss: 276.4775, Val RMSE Loss: 137.5085\n",
      "Epoch 9 Train RMSE Loss: 271.5753, Val RMSE Loss: 133.8093\n",
      "Epoch 10 Train RMSE Loss: 266.4355, Val RMSE Loss: 102.1846\n",
      "Epoch 11 Train RMSE Loss: 257.6521, Val RMSE Loss: 137.8492\n",
      "Epoch 12 Train RMSE Loss: 249.6051, Val RMSE Loss: 102.2957\n"
     ]
    }
   ],
   "source": [
    "from xlstm import xLSTM, Trainer\n",
    "import time\n",
    "import torch\n",
    "from torch.utils.data import DataLoader\n",
    "\n",
    "train = torch.load('/home/intellect/Documents/Research/Current/ValleyForecast/data/cleaned/train.pt')\n",
    "val = torch.load('/home/intellect/Documents/Research/Current/ValleyForecast/data/cleaned/val.pt')\n",
    "batch_size = 32\n",
    "train_loader = DataLoader(train, batch_size, shuffle=True, drop_last=True)\n",
    "val_loader = DataLoader(val, batch_size=32, shuffle=True, drop_last=True)\n",
    "model = xLSTM(stack_config='ss')\n",
    "model.to('cuda')\n",
    "\n",
    "trainer = Trainer(model, 100, train_loader, val_loader)\n",
    "start = time.time()\n",
    "trainer.train()\n",
    "end = time.time()\n",
    "\n",
    "print(f'\\nTotal training time on 100 epochs: {end-start}')  \n",
    "\n"
   ]
  }
 ],
 "metadata": {
  "kernelspec": {
   "display_name": "valley_fever",
   "language": "python",
   "name": "python3"
  },
  "language_info": {
   "codemirror_mode": {
    "name": "ipython",
    "version": 3
   },
   "file_extension": ".py",
   "mimetype": "text/x-python",
   "name": "python",
   "nbconvert_exporter": "python",
   "pygments_lexer": "ipython3",
   "version": "3.8.15"
  }
 },
 "nbformat": 4,
 "nbformat_minor": 2
}
