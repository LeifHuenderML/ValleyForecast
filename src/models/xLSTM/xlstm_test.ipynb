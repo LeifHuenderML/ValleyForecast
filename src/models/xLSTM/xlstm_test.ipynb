{
 "cells": [
  {
   "cell_type": "code",
   "execution_count": 1,
   "metadata": {},
   "outputs": [],
   "source": [
    "from xlstm import xLSTM, Trainer\n",
    "import time\n",
    "import torch\n",
    "from torch.utils.data import DataLoader"
   ]
  },
  {
   "cell_type": "code",
   "execution_count": 2,
   "metadata": {},
   "outputs": [],
   "source": [
    "train = torch.load('/home/intellect/Documents/Research/Current/ValleyForecast/data/cleaned/train.pt')\n",
    "val = torch.load('/home/intellect/Documents/Research/Current/ValleyForecast/data/cleaned/val.pt')\n",
    "batch_size = 32\n",
    "train_loader = DataLoader(train, batch_size, shuffle=True, drop_last=True)\n",
    "val_loader = DataLoader(val, batch_size=32, shuffle=True, drop_last=True)\n",
    "model = xLSTM(stack_config='ss')\n",
    "model.to('cuda')\n",
    "\n",
    "trainer = Trainer(model, 1000, train_loader, val_loader)\n",
    "start = time.time()\n",
    "trainer.train()\n",
    "end = time.time()\n",
    "\n",
    "print(f'\\nTotal training time on 100 epochs: {end-start}')  \n"
   ]
  },
  {
   "cell_type": "code",
   "execution_count": null,
   "metadata": {},
   "outputs": [],
   "source": []
  }
 ],
 "metadata": {
  "kernelspec": {
   "display_name": "valley_fever",
   "language": "python",
   "name": "python3"
  },
  "language_info": {
   "codemirror_mode": {
    "name": "ipython",
    "version": 3
   },
   "file_extension": ".py",
   "mimetype": "text/x-python",
   "name": "python",
   "nbconvert_exporter": "python",
   "pygments_lexer": "ipython3",
   "version": "3.8.15"
  }
 },
 "nbformat": 4,
 "nbformat_minor": 2
}
