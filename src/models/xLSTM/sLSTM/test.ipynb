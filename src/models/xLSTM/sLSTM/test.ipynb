{
 "cells": [
  {
   "cell_type": "code",
   "execution_count": 1,
   "metadata": {},
   "outputs": [],
   "source": [
    "import slstm\n",
    "import torch\n",
    "from torch.utils.data import DataLoader\n",
    "import torch.nn as nn\n",
    "import numpy as np\n",
    "import time"
   ]
  },
  {
   "cell_type": "code",
   "execution_count": 2,
   "metadata": {},
   "outputs": [],
   "source": [
    "def trainer(model, epochs, loader, loss_fn, optim):\n",
    "    losses = []\n",
    "    for epoch in range(1, epochs+1):\n",
    "        num_batches = len(loader)\n",
    "        total_loss = 0\n",
    "        for x, y in loader:\n",
    "            x, y = x.to('cuda'), y.to('cuda')\n",
    "            output = model(x)\n",
    "            loss = loss_fn(output, y)\n",
    "            optim.zero_grad()\n",
    "            loss.backward()\n",
    "            optim.step()\n",
    "            total_loss += loss.item()\n",
    "        avg_loss = total_loss/num_batches\n",
    "        avg_loss = np.sqrt(avg_loss)\n",
    "        losses.append(avg_loss)\n",
    "        print(f'Epoch {epoch} RMSE Loss: {avg_loss}')\n",
    "    return losses"
   ]
  },
  {
   "cell_type": "markdown",
   "metadata": {},
   "source": [
    "# Training evaluation for V1 "
   ]
  },
  {
   "cell_type": "code",
   "execution_count": 3,
   "metadata": {},
   "outputs": [],
   "source": [
    "# train = torch.load('../../../../data/cleaned/train.pt')\n",
    "# batch_size = 32\n",
    "# train_loader = DataLoader(train, batch_size, shuffle=True, drop_last=True)\n",
    "# model = slstm.LSTM()\n",
    "# model.to('cuda')\n",
    "# loss_fn = torch.nn.MSELoss()\n",
    "# optim = torch.optim.Adam(params=model.parameters(), lr=0.001)\n"
   ]
  },
  {
   "cell_type": "code",
   "execution_count": 4,
   "metadata": {},
   "outputs": [],
   "source": [
    "# start = time.time()\n",
    "# losses = trainer(model, 100, train_loader, loss_fn, optim)\n",
    "# end = time.time()\n",
    "\n",
    "# print(f'\\nTotal training time on 100 epochs: {end-start}')"
   ]
  },
  {
   "cell_type": "markdown",
   "metadata": {},
   "source": [
    "# Training evaluation for V2"
   ]
  },
  {
   "cell_type": "code",
   "execution_count": 5,
   "metadata": {},
   "outputs": [],
   "source": [
    "train = torch.load('../../../../data/cleaned/train.pt')\n",
    "batch_size = 32\n",
    "train_loader = DataLoader(train, batch_size, shuffle=True, drop_last=True)\n",
    "model = slstm.LSTMv2()\n",
    "model.to('cuda')\n",
    "loss_fn = torch.nn.MSELoss()\n",
    "optim = torch.optim.Adam(params=model.parameters(), lr=0.001)\n"
   ]
  },
  {
   "cell_type": "code",
   "execution_count": 6,
   "metadata": {},
   "outputs": [
    {
     "name": "stdout",
     "output_type": "stream",
     "text": [
      "Epoch 1 RMSE Loss: 289.698129663437\n",
      "Epoch 2 RMSE Loss: 288.80985796833903\n",
      "Epoch 3 RMSE Loss: 289.16020534623175\n",
      "Epoch 4 RMSE Loss: 289.16571765264985\n",
      "Epoch 5 RMSE Loss: 289.0082325295762\n",
      "Epoch 6 RMSE Loss: 289.272807527005\n",
      "Epoch 7 RMSE Loss: 289.20483788682543\n",
      "Epoch 8 RMSE Loss: 289.1936575163498\n",
      "Epoch 9 RMSE Loss: 289.1658934335073\n",
      "Epoch 10 RMSE Loss: 289.21210746962646\n",
      "Epoch 11 RMSE Loss: 289.4049801884982\n",
      "Epoch 12 RMSE Loss: 289.2255212295645\n",
      "Epoch 13 RMSE Loss: 289.09894284384006\n",
      "Epoch 14 RMSE Loss: 286.7467444345994\n",
      "Epoch 15 RMSE Loss: 283.54320236496187\n",
      "Epoch 16 RMSE Loss: 281.36515815192234\n",
      "Epoch 17 RMSE Loss: 284.53281849811293\n",
      "Epoch 18 RMSE Loss: 276.3625781283948\n",
      "Epoch 19 RMSE Loss: 283.29385607852487\n",
      "Epoch 20 RMSE Loss: 279.492388717786\n",
      "Epoch 21 RMSE Loss: 272.44829269890107\n",
      "Epoch 22 RMSE Loss: 264.3945759857669\n",
      "Epoch 23 RMSE Loss: 280.8736961323793\n",
      "Epoch 24 RMSE Loss: 280.59752574556086\n",
      "Epoch 25 RMSE Loss: 278.5668238529303\n",
      "Epoch 26 RMSE Loss: 264.9848985270267\n",
      "Epoch 27 RMSE Loss: 272.72945211900327\n",
      "Epoch 28 RMSE Loss: 265.95941369394205\n",
      "Epoch 29 RMSE Loss: 269.33306632069304\n",
      "Epoch 30 RMSE Loss: 275.35848211703933\n",
      "Epoch 31 RMSE Loss: 263.2058242087108\n",
      "Epoch 32 RMSE Loss: 268.99075374669076\n",
      "Epoch 33 RMSE Loss: 262.181348200157\n",
      "Epoch 34 RMSE Loss: 242.46413906021792\n",
      "Epoch 35 RMSE Loss: 255.5714848634024\n",
      "Epoch 36 RMSE Loss: 256.44636878857375\n",
      "Epoch 37 RMSE Loss: 241.46512452234532\n",
      "Epoch 38 RMSE Loss: 228.95537311767868\n",
      "Epoch 39 RMSE Loss: 226.38911976099476\n",
      "Epoch 40 RMSE Loss: 224.11896009314484\n",
      "Epoch 41 RMSE Loss: 214.82636440423815\n",
      "Epoch 42 RMSE Loss: 216.23624213083338\n",
      "Epoch 43 RMSE Loss: 216.75306292170436\n",
      "Epoch 44 RMSE Loss: 215.1577592986153\n",
      "Epoch 45 RMSE Loss: 199.20769503873555\n",
      "Epoch 46 RMSE Loss: 173.31194145009889\n",
      "Epoch 47 RMSE Loss: 190.21230314409303\n",
      "Epoch 48 RMSE Loss: 165.1017026520531\n",
      "Epoch 49 RMSE Loss: 176.25048730711987\n",
      "Epoch 50 RMSE Loss: 151.09004079349904\n",
      "Epoch 51 RMSE Loss: 204.98246346121832\n",
      "Epoch 52 RMSE Loss: 216.71461678516147\n",
      "Epoch 53 RMSE Loss: 173.525809663102\n",
      "Epoch 54 RMSE Loss: 152.04753667479847\n",
      "Epoch 55 RMSE Loss: 176.49755273900269\n",
      "Epoch 56 RMSE Loss: 152.69777093643617\n",
      "Epoch 57 RMSE Loss: 152.15312214627033\n",
      "Epoch 58 RMSE Loss: 137.00492255872544\n",
      "Epoch 59 RMSE Loss: 185.9034758274359\n",
      "Epoch 60 RMSE Loss: 145.85282899274776\n",
      "Epoch 61 RMSE Loss: 121.49254477789245\n",
      "Epoch 62 RMSE Loss: 82.0314804553079\n",
      "Epoch 63 RMSE Loss: 211.98129828262253\n",
      "Epoch 64 RMSE Loss: 261.50130066799716\n",
      "Epoch 65 RMSE Loss: 222.78105526443423\n",
      "Epoch 66 RMSE Loss: 228.0938681829065\n",
      "Epoch 67 RMSE Loss: 211.73884271311047\n",
      "Epoch 68 RMSE Loss: 198.86819908595092\n",
      "Epoch 69 RMSE Loss: 178.18114945594056\n",
      "Epoch 70 RMSE Loss: 189.69722688984646\n",
      "Epoch 71 RMSE Loss: 213.72326724083806\n",
      "Epoch 72 RMSE Loss: 160.69226939350534\n",
      "Epoch 73 RMSE Loss: 147.85606795253156\n",
      "Epoch 74 RMSE Loss: 124.26768299561903\n",
      "Epoch 75 RMSE Loss: 95.49627241295401\n",
      "Epoch 76 RMSE Loss: 152.0803917479583\n",
      "Epoch 77 RMSE Loss: 137.72507936398193\n",
      "Epoch 78 RMSE Loss: 126.28089279975714\n",
      "Epoch 79 RMSE Loss: 89.54562186518946\n",
      "Epoch 80 RMSE Loss: 93.65268808688775\n",
      "Epoch 81 RMSE Loss: 161.34949664063805\n",
      "Epoch 82 RMSE Loss: 141.57142053330753\n",
      "Epoch 83 RMSE Loss: 76.47674118673356\n",
      "Epoch 84 RMSE Loss: 73.80601448405312\n",
      "Epoch 85 RMSE Loss: 88.50818345828513\n",
      "Epoch 86 RMSE Loss: 72.9918625504556\n",
      "Epoch 87 RMSE Loss: 72.7273574714286\n",
      "Epoch 88 RMSE Loss: 188.71397811355942\n",
      "Epoch 89 RMSE Loss: 107.85317728366029\n",
      "Epoch 90 RMSE Loss: 73.94467407217647\n",
      "Epoch 91 RMSE Loss: 68.83466250699288\n",
      "Epoch 92 RMSE Loss: 68.88920821306542\n",
      "Epoch 93 RMSE Loss: 66.54597551022735\n",
      "Epoch 94 RMSE Loss: 70.21507037239715\n",
      "Epoch 95 RMSE Loss: 144.62054600512022\n",
      "Epoch 96 RMSE Loss: 66.75084044787218\n",
      "Epoch 97 RMSE Loss: 77.1685456178825\n",
      "Epoch 98 RMSE Loss: 66.17967975998485\n",
      "Epoch 99 RMSE Loss: 63.387414858330686\n",
      "Epoch 100 RMSE Loss: 59.89856386780982\n",
      "\n",
      "Total training time on 100 epochs: 13263.498240232468\n"
     ]
    }
   ],
   "source": [
    "start = time.time()\n",
    "losses = trainer(model, 100, train_loader, loss_fn, optim)\n",
    "end = time.time()\n",
    "\n",
    "print(f'\\nTotal training time on 100 epochs: {end-start}')"
   ]
  },
  {
   "cell_type": "code",
   "execution_count": null,
   "metadata": {},
   "outputs": [],
   "source": []
  },
  {
   "cell_type": "code",
   "execution_count": null,
   "metadata": {},
   "outputs": [],
   "source": []
  },
  {
   "cell_type": "code",
   "execution_count": null,
   "metadata": {},
   "outputs": [],
   "source": []
  },
  {
   "cell_type": "code",
   "execution_count": null,
   "metadata": {},
   "outputs": [],
   "source": []
  },
  {
   "cell_type": "code",
   "execution_count": null,
   "metadata": {},
   "outputs": [],
   "source": []
  },
  {
   "cell_type": "code",
   "execution_count": null,
   "metadata": {},
   "outputs": [],
   "source": []
  },
  {
   "cell_type": "code",
   "execution_count": null,
   "metadata": {},
   "outputs": [],
   "source": []
  },
  {
   "cell_type": "code",
   "execution_count": null,
   "metadata": {},
   "outputs": [],
   "source": []
  },
  {
   "cell_type": "code",
   "execution_count": null,
   "metadata": {},
   "outputs": [],
   "source": []
  },
  {
   "cell_type": "code",
   "execution_count": null,
   "metadata": {},
   "outputs": [],
   "source": []
  }
 ],
 "metadata": {
  "kernelspec": {
   "display_name": "valley_fever",
   "language": "python",
   "name": "python3"
  },
  "language_info": {
   "codemirror_mode": {
    "name": "ipython",
    "version": 3
   },
   "file_extension": ".py",
   "mimetype": "text/x-python",
   "name": "python",
   "nbconvert_exporter": "python",
   "pygments_lexer": "ipython3",
   "version": "3.8.15"
  }
 },
 "nbformat": 4,
 "nbformat_minor": 2
}
