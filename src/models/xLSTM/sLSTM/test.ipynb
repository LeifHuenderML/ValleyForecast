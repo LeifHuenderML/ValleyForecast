{
 "cells": [
  {
   "cell_type": "code",
   "execution_count": 1,
   "metadata": {},
   "outputs": [],
   "source": [
    "import slstm\n",
    "import torch\n",
    "from torch.utils.data import DataLoader\n",
    "import torch.nn as nn\n",
    "import numpy as np\n",
    "import time"
   ]
  },
  {
   "cell_type": "code",
   "execution_count": 2,
   "metadata": {},
   "outputs": [],
   "source": [
    "def trainer(model, epochs, loader, loss_fn, optim):\n",
    "    losses = []\n",
    "    for epoch in range(1, epochs+1):\n",
    "        num_batches = len(loader)\n",
    "        total_loss = 0\n",
    "        for x, y in loader:\n",
    "            x, y = x.to('cuda'), y.to('cuda')\n",
    "            output = model(x)\n",
    "            loss = loss_fn(output, y)\n",
    "            optim.zero_grad()\n",
    "            loss.backward()\n",
    "            optim.step()\n",
    "            total_loss += loss.item()\n",
    "        avg_loss = total_loss/num_batches\n",
    "        avg_loss = np.sqrt(avg_loss)\n",
    "        losses.append(avg_loss)\n",
    "        print(f'Epoch {epoch} RMSE Loss: {avg_loss}')\n",
    "    return losses"
   ]
  },
  {
   "cell_type": "markdown",
   "metadata": {},
   "source": [
    "# Training evaluation for V1 "
   ]
  },
  {
   "cell_type": "code",
   "execution_count": 3,
   "metadata": {},
   "outputs": [],
   "source": [
    "# train = torch.load('../../../../data/cleaned/train.pt')\n",
    "# batch_size = 32\n",
    "# train_loader = DataLoader(train, batch_size, shuffle=True, drop_last=True)\n",
    "# model = slstm.LSTM()\n",
    "# model.to('cuda')\n",
    "# loss_fn = torch.nn.MSELoss()\n",
    "# optim = torch.optim.Adam(params=model.parameters(), lr=0.001)\n"
   ]
  },
  {
   "cell_type": "code",
   "execution_count": 4,
   "metadata": {},
   "outputs": [],
   "source": [
    "# start = time.time()\n",
    "# losses = trainer(model, 100, train_loader, loss_fn, optim)\n",
    "# end = time.time()\n",
    "\n",
    "# print(f'\\nTotal training time on 100 epochs: {end-start}')"
   ]
  },
  {
   "cell_type": "markdown",
   "metadata": {},
   "source": [
    "# Training evaluation for V2"
   ]
  },
  {
   "cell_type": "code",
   "execution_count": 5,
   "metadata": {},
   "outputs": [],
   "source": [
    "train = torch.load('../../../../data/cleaned/train.pt')\n",
    "batch_size = 32\n",
    "train_loader = DataLoader(train, batch_size, shuffle=True, drop_last=True)\n",
    "model = slstm.LSTMv2()\n",
    "model.to('cuda')\n",
    "loss_fn = torch.nn.MSELoss()\n",
    "optim = torch.optim.Adam(params=model.parameters(), lr=0.001)\n"
   ]
  },
  {
   "cell_type": "code",
   "execution_count": 6,
   "metadata": {},
   "outputs": [
    {
     "name": "stdout",
     "output_type": "stream",
     "text": [
      "Epoch 1 RMSE Loss: 289.86405132192783\n",
      "Epoch 2 RMSE Loss: 289.0783391091136\n",
      "Epoch 3 RMSE Loss: 289.0274811098486\n",
      "Epoch 4 RMSE Loss: 289.145671647587\n",
      "Epoch 5 RMSE Loss: 288.7897482773408\n",
      "Epoch 6 RMSE Loss: 288.0633419788765\n",
      "Epoch 7 RMSE Loss: 289.2320622378065\n",
      "Epoch 8 RMSE Loss: 289.0165084679682\n",
      "Epoch 9 RMSE Loss: 289.18816757868586\n",
      "Epoch 10 RMSE Loss: 288.2315583305953\n",
      "Epoch 11 RMSE Loss: 288.36882135309065\n",
      "Epoch 12 RMSE Loss: 289.10725551880773\n",
      "Epoch 13 RMSE Loss: 289.29414939252865\n",
      "Epoch 14 RMSE Loss: 289.29175885589405\n",
      "Epoch 15 RMSE Loss: 288.90024145182724\n",
      "Epoch 16 RMSE Loss: 289.1949796272303\n",
      "Epoch 17 RMSE Loss: 289.29817921395045\n",
      "Epoch 18 RMSE Loss: 289.20572429393155\n",
      "Epoch 19 RMSE Loss: 288.64248335385304\n",
      "Epoch 20 RMSE Loss: 289.13770562435906\n",
      "Epoch 21 RMSE Loss: 289.1108573347207\n",
      "Epoch 22 RMSE Loss: 288.53675698028735\n",
      "Epoch 23 RMSE Loss: 288.7470250020676\n",
      "Epoch 24 RMSE Loss: 289.1688492661937\n"
     ]
    }
   ],
   "source": [
    "start = time.time()\n",
    "losses = trainer(model, 100, train_loader, loss_fn, optim)\n",
    "end = time.time()\n",
    "\n",
    "print(f'\\nTotal training time on 100 epochs: {end-start}')"
   ]
  },
  {
   "cell_type": "code",
   "execution_count": null,
   "metadata": {},
   "outputs": [],
   "source": []
  },
  {
   "cell_type": "code",
   "execution_count": null,
   "metadata": {},
   "outputs": [],
   "source": []
  },
  {
   "cell_type": "code",
   "execution_count": null,
   "metadata": {},
   "outputs": [],
   "source": []
  },
  {
   "cell_type": "code",
   "execution_count": null,
   "metadata": {},
   "outputs": [],
   "source": []
  },
  {
   "cell_type": "code",
   "execution_count": null,
   "metadata": {},
   "outputs": [],
   "source": []
  },
  {
   "cell_type": "code",
   "execution_count": null,
   "metadata": {},
   "outputs": [],
   "source": []
  },
  {
   "cell_type": "code",
   "execution_count": null,
   "metadata": {},
   "outputs": [],
   "source": []
  },
  {
   "cell_type": "code",
   "execution_count": null,
   "metadata": {},
   "outputs": [],
   "source": []
  },
  {
   "cell_type": "code",
   "execution_count": null,
   "metadata": {},
   "outputs": [],
   "source": []
  },
  {
   "cell_type": "code",
   "execution_count": null,
   "metadata": {},
   "outputs": [],
   "source": []
  }
 ],
 "metadata": {
  "kernelspec": {
   "display_name": "valley_fever",
   "language": "python",
   "name": "python3"
  },
  "language_info": {
   "codemirror_mode": {
    "name": "ipython",
    "version": 3
   },
   "file_extension": ".py",
   "mimetype": "text/x-python",
   "name": "python",
   "nbconvert_exporter": "python",
   "pygments_lexer": "ipython3",
   "version": "3.8.15"
  }
 },
 "nbformat": 4,
 "nbformat_minor": 2
}
