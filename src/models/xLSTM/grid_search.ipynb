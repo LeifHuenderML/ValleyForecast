{
 "cells": [
  {
   "cell_type": "markdown",
   "metadata": {},
   "source": [
    "# Broad Search"
   ]
  },
  {
   "cell_type": "code",
   "execution_count": 1,
   "metadata": {},
   "outputs": [
    {
     "name": "stdout",
     "output_type": "stream",
     "text": [
      "Search Space: 56\n",
      "128 ss 0.0\n"
     ]
    }
   ],
   "source": [
    "from xlstm import GridSearch\n",
    "import time\n",
    "import torch\n",
    "from torch.utils.data import DataLoader\n",
    "\n",
    "train = torch.load('/home/intellect/Documents/Research/Current/ValleyForecast/data/cleaned/train.pt')\n",
    "val = torch.load('/home/intellect/Documents/Research/Current/ValleyForecast/data/cleaned/val.pt')\n",
    "batch_size = 32\n",
    "train_loader = DataLoader(train, batch_size, shuffle=True, drop_last=True)\n",
    "val_loader = DataLoader(val, batch_size=32, shuffle=True, drop_last=True)\n",
    "\n",
    "param_dict = {\n",
    "    'hidden_size': [64, 128, 256, 512],\n",
    "    'stack_config': ['ss', 'ms', 'mm', 'sm', 'ssm', 'sms', 'mss', 'smm', 'mmm', 'mms', 'mss'],\n",
    "    'dropout': [0.0, 0.1, 0.15, 0.2],\n",
    "}\n",
    "grid_search = GridSearch(train_loader, val_loader)\n",
    "grid_search.search(param_dict)\n"
   ]
  },
  {
   "cell_type": "markdown",
   "metadata": {},
   "source": [
    "# Narrow Search"
   ]
  },
  {
   "cell_type": "code",
   "execution_count": null,
   "metadata": {},
   "outputs": [],
   "source": []
  }
 ],
 "metadata": {
  "kernelspec": {
   "display_name": "valley_fever",
   "language": "python",
   "name": "python3"
  },
  "language_info": {
   "codemirror_mode": {
    "name": "ipython",
    "version": 3
   },
   "file_extension": ".py",
   "mimetype": "text/x-python",
   "name": "python",
   "nbconvert_exporter": "python",
   "pygments_lexer": "ipython3",
   "version": "3.8.15"
  }
 },
 "nbformat": 4,
 "nbformat_minor": 2
}
