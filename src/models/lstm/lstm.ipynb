{
 "cells": [
  {
   "cell_type": "code",
   "execution_count": 1,
   "metadata": {},
   "outputs": [],
   "source": [
    "import torch\n",
    "import lstm\n",
    "from torch.utils.data import DataLoader\n",
    "import torch.nn as nn\n",
    "import torch.optim as optim"
   ]
  },
  {
   "cell_type": "code",
   "execution_count": 2,
   "metadata": {},
   "outputs": [],
   "source": [
    "#load all the datasets\n",
    "train = torch.load('../../../data/cleaned/train.pt')\n",
    "val = torch.load('../../../data/cleaned/val.pt')\n",
    "test = torch.load('../../../data/cleaned/test.pt')\n",
    "\n",
    "#make them into dataloaders\n",
    "batch_size = 32\n",
    "train_loader = DataLoader(train, batch_size, shuffle=True, drop_last=True)\n",
    "val_loader = DataLoader(val, batch_size, shuffle=True, drop_last=True)\n",
    "test_loader = DataLoader(test, batch_size, shuffle=True, drop_last=True)"
   ]
  },
  {
   "cell_type": "code",
   "execution_count": 3,
   "metadata": {},
   "outputs": [
    {
     "name": "stdout",
     "output_type": "stream",
     "text": [
      "Epoch: 10/100\n",
      "---------\n",
      "Train Loss RMSE: 273.8803766422089, Validation Loss RMSE: 307.180826319928\n",
      "\n",
      "Epoch: 20/100\n",
      "---------\n",
      "Train Loss RMSE: 280.9182236694966, Validation Loss RMSE: 308.3086843944667\n",
      "\n",
      "Epoch: 30/100\n",
      "---------\n",
      "Train Loss RMSE: 279.81740181983184, Validation Loss RMSE: 310.3419091678362\n",
      "\n",
      "Epoch: 40/100\n",
      "---------\n",
      "Train Loss RMSE: 265.5980165327382, Validation Loss RMSE: 305.23819384288845\n",
      "\n",
      "Epoch: 50/100\n",
      "---------\n",
      "Train Loss RMSE: 271.91422550751554, Validation Loss RMSE: 310.2697234174344\n",
      "\n",
      "Epoch: 60/100\n",
      "---------\n",
      "Train Loss RMSE: 269.13386824353745, Validation Loss RMSE: 307.5049597859663\n",
      "\n"
     ]
    }
   ],
   "source": [
    "model = lstm.LSTM(hidden_size=64, num_layers=1)\n",
    "loss_fn = nn.MSELoss()\n",
    "learning_rate = 0.01\n",
    "optimizer = optim.Adam(model.parameters(), lr=learning_rate,)\n",
    "trainer = lstm.Trainer(model, train_loader, val_loader, loss_fn, optimizer,)\n",
    "trainer.train(epochs=100)\n",
    "trainer.plot()"
   ]
  },
  {
   "cell_type": "code",
   "execution_count": null,
   "metadata": {},
   "outputs": [],
   "source": [
    "model = lstm.LSTM(hidden_size=64, num_layers=1)\n",
    "loss_fn = nn.MSELoss()\n",
    "learning_rate = 0.01\n",
    "optimizer = optim.Adam(model.parameters(), lr=learning_rate,)\n",
    "grid_search = lstm.GridSearch(train_loader, val_loader, loss_fn, optimizer)\n",
    "\n",
    "param_dict = {\n",
    "    'hidden_size' : [64, 128, 512, 1025],\n",
    "    'num_layers' : [1, 2, 3, 4, 5],\n",
    "    'bias' : [True, False],\n",
    "    'batch_first' : [True],\n",
    "    'dropout' : [0, 0.1, 0.2, 0.3],\n",
    "    'bidirectional' : [True, False],\n",
    "    'proj_size' : [0]\n",
    "}\n",
    "\n",
    "\n",
    "grid_search.search(param_dict)\n"
   ]
  },
  {
   "cell_type": "code",
   "execution_count": null,
   "metadata": {},
   "outputs": [],
   "source": []
  }
 ],
 "metadata": {
  "kernelspec": {
   "display_name": "valley_fever",
   "language": "python",
   "name": "python3"
  },
  "language_info": {
   "codemirror_mode": {
    "name": "ipython",
    "version": 3
   },
   "file_extension": ".py",
   "mimetype": "text/x-python",
   "name": "python",
   "nbconvert_exporter": "python",
   "pygments_lexer": "ipython3",
   "version": "3.8.15"
  }
 },
 "nbformat": 4,
 "nbformat_minor": 2
}
