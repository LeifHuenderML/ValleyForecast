{
 "cells": [
  {
   "cell_type": "code",
   "execution_count": 1,
   "metadata": {},
   "outputs": [],
   "source": [
    "import torch\n",
    "import lstm\n",
    "from torch.utils.data import DataLoader\n",
    "import torch.nn as nn\n",
    "import torch.optim as optim"
   ]
  },
  {
   "cell_type": "code",
   "execution_count": 2,
   "metadata": {},
   "outputs": [],
   "source": [
    "#load all the datasets\n",
    "train = torch.load('../../../data/cleaned/train.pt')\n",
    "val = torch.load('../../../data/cleaned/val.pt')\n",
    "test = torch.load('../../../data/cleaned/test.pt')\n",
    "\n",
    "#make them into dataloaders\n",
    "batch_size = 16\n",
    "train_loader = DataLoader(train, batch_size, shuffle=True, drop_last=True)\n",
    "val_loader = DataLoader(val, batch_size, shuffle=True, drop_last=True)\n",
    "test_loader = DataLoader(test, batch_size, shuffle=True, drop_last=True)"
   ]
  },
  {
   "cell_type": "code",
   "execution_count": 3,
   "metadata": {},
   "outputs": [
    {
     "name": "stdout",
     "output_type": "stream",
     "text": [
      "Epoch: 1/1000\n",
      "---------\n",
      "Train Loss RMSE: 291.62185237950786, Validation Loss RMSE: 128.13692123571317\n",
      "\n",
      "Epoch: 2/1000\n",
      "---------\n",
      "Train Loss RMSE: 290.4211435788709, Validation Loss RMSE: 84.10380086818468\n",
      "\n",
      "Epoch: 3/1000\n",
      "---------\n",
      "Train Loss RMSE: 290.3577199528816, Validation Loss RMSE: 84.63785092653171\n",
      "\n",
      "Epoch: 4/1000\n",
      "---------\n",
      "Train Loss RMSE: 290.1993186684282, Validation Loss RMSE: 129.3105320707756\n",
      "\n",
      "Epoch: 5/1000\n",
      "---------\n",
      "Train Loss RMSE: 289.7495654362386, Validation Loss RMSE: 128.58673110991944\n",
      "\n",
      "Epoch: 6/1000\n",
      "---------\n",
      "Train Loss RMSE: 290.18802661128933, Validation Loss RMSE: 125.82038189591553\n",
      "\n",
      "Epoch: 7/1000\n",
      "---------\n",
      "Train Loss RMSE: 290.14690224069335, Validation Loss RMSE: 132.5278763914722\n",
      "\n",
      "Epoch: 8/1000\n",
      "---------\n",
      "Train Loss RMSE: 289.81345915721704, Validation Loss RMSE: 125.02682893506908\n",
      "\n",
      "Epoch: 9/1000\n",
      "---------\n",
      "Train Loss RMSE: 289.7387559048907, Validation Loss RMSE: 80.54493199712199\n",
      "\n",
      "Epoch: 10/1000\n",
      "---------\n",
      "Train Loss RMSE: 289.36105687211506, Validation Loss RMSE: 129.57785494264232\n",
      "\n",
      "Epoch: 11/1000\n",
      "---------\n",
      "Train Loss RMSE: 289.6475344892494, Validation Loss RMSE: 130.69584485685542\n",
      "\n",
      "Epoch: 12/1000\n",
      "---------\n",
      "Train Loss RMSE: 289.86196928897795, Validation Loss RMSE: 129.8094884663615\n",
      "\n",
      "Epoch: 13/1000\n",
      "---------\n",
      "Train Loss RMSE: 289.64404225118795, Validation Loss RMSE: 129.67084104851472\n",
      "\n"
     ]
    },
    {
     "data": {
      "text/plain": [
       "(LSTM(\n",
       "   (lstm): LSTM(19, 4560, num_layers=3, batch_first=True, dropout=0.6)\n",
       "   (fc1): Linear(in_features=4560, out_features=2280, bias=True)\n",
       "   (fc2): Linear(in_features=2280, out_features=1140, bias=True)\n",
       "   (fc3): Linear(in_features=1140, out_features=1, bias=True)\n",
       "   (relu): ReLU()\n",
       "   (dropout1): Dropout(p=0.6, inplace=False)\n",
       "   (dropout2): Dropout(p=0.6, inplace=False)\n",
       " ),\n",
       " [291.62185237950786,\n",
       "  290.4211435788709,\n",
       "  290.3577199528816,\n",
       "  290.1993186684282,\n",
       "  289.7495654362386,\n",
       "  290.18802661128933,\n",
       "  290.14690224069335,\n",
       "  289.81345915721704,\n",
       "  289.7387559048907,\n",
       "  289.36105687211506,\n",
       "  289.6475344892494,\n",
       "  289.86196928897795,\n",
       "  289.64404225118795,\n",
       "  289.67888522465313],\n",
       " [128.13692123571317,\n",
       "  84.10380086818468,\n",
       "  84.63785092653171,\n",
       "  129.3105320707756,\n",
       "  128.58673110991944,\n",
       "  125.82038189591553,\n",
       "  132.5278763914722,\n",
       "  125.02682893506908,\n",
       "  80.54493199712199,\n",
       "  129.57785494264232,\n",
       "  130.69584485685542,\n",
       "  129.8094884663615,\n",
       "  129.67084104851472,\n",
       "  132.76394573044217])"
      ]
     },
     "execution_count": 3,
     "metadata": {},
     "output_type": "execute_result"
    }
   ],
   "source": [
    "model = lstm.LSTM(hidden_size=4560, num_layers=3, dropout=0.6)\n",
    "loss_fn = nn.MSELoss()\n",
    "learning_rate = 0.001\n",
    "optimizer = optim.Adam(model.parameters(), lr=learning_rate,)\n",
    "trainer = lstm.Trainer(model, train_loader, val_loader, loss_fn, optimizer,)\n",
    "trainer.train(epochs=1000)"
   ]
  },
  {
   "cell_type": "code",
   "execution_count": null,
   "metadata": {},
   "outputs": [],
   "source": []
  }
 ],
 "metadata": {
  "kernelspec": {
   "display_name": "valley_fever",
   "language": "python",
   "name": "python3"
  },
  "language_info": {
   "codemirror_mode": {
    "name": "ipython",
    "version": 3
   },
   "file_extension": ".py",
   "mimetype": "text/x-python",
   "name": "python",
   "nbconvert_exporter": "python",
   "pygments_lexer": "ipython3",
   "version": "3.8.15"
  }
 },
 "nbformat": 4,
 "nbformat_minor": 2
}
