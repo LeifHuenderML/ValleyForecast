{
 "cells": [
  {
   "cell_type": "code",
   "execution_count": 3,
   "metadata": {},
   "outputs": [
    {
     "name": "stdout",
     "output_type": "stream",
     "text": [
      "RMSE: 383.640380859375\n",
      "Training Time: 0.0004544258117675781\n"
     ]
    }
   ],
   "source": [
    "import time\n",
    "import torch\n",
    "from sklearn.dummy import DummyRegressor\n",
    "from sklearn.metrics import mean_squared_error\n",
    "import numpy as np\n",
    "\n",
    "# Load data\n",
    "train = torch.load('../../../data/cleaned/train.pt')\n",
    "test = torch.load('../../../data/cleaned/test.pt')\n",
    "\n",
    "# get the x and y values \n",
    "x = train[:][0]\n",
    "y = train[:][1]\n",
    "\n",
    "x_test = test[:][0]\n",
    "y_test = test[:][1]\n",
    "\n",
    "\n",
    "#convert from tensors to numpy arrays\n",
    "x_np = x.numpy()\n",
    "y_np = y.numpy()\n",
    "\n",
    "x_test_np = x_test.numpy()\n",
    "y_test_np = y_test.numpy()\n",
    "\n",
    "#train the dummy regerssor with timing\n",
    "start = time.time()\n",
    "dummy_regressor = DummyRegressor(strategy=\"mean\")\n",
    "dummy_regressor.fit(x_np, y_np)\n",
    "end = time.time()\n",
    "\n",
    "#test the regressor on unseen data\n",
    "predictions = dummy_regressor.predict(x_test_np)\n",
    "\n",
    "#find the rmse\n",
    "rmse = np.sqrt(mean_squared_error(y_test_np, predictions))\n",
    "\n",
    "#dislay the rmse\n",
    "print(f\"RMSE: {rmse}\")\n",
    "print(f'Training Time: {end-start}')"
   ]
  },
  {
   "cell_type": "code",
   "execution_count": 4,
   "metadata": {},
   "outputs": [
    {
     "name": "stdout",
     "output_type": "stream",
     "text": [
      "[78.07109 78.07109 78.07109 78.07109 78.07109 78.07109 78.07109 78.07109\n",
      " 78.07109 78.07109 78.07109 78.07109 78.07109 78.07109 78.07109 78.07109\n",
      " 78.07109 78.07109 78.07109 78.07109 78.07109 78.07109 78.07109 78.07109\n",
      " 78.07109 78.07109 78.07109 78.07109 78.07109 78.07109 78.07109 78.07109\n",
      " 78.07109 78.07109 78.07109 78.07109 78.07109 78.07109 78.07109 78.07109\n",
      " 78.07109 78.07109 78.07109 78.07109 78.07109 78.07109 78.07109 78.07109\n",
      " 78.07109 78.07109 78.07109 78.07109 78.07109 78.07109]\n"
     ]
    }
   ],
   "source": [
    "print(predictions)"
   ]
  },
  {
   "cell_type": "code",
   "execution_count": null,
   "metadata": {},
   "outputs": [],
   "source": []
  }
 ],
 "metadata": {
  "kernelspec": {
   "display_name": "valley_fever",
   "language": "python",
   "name": "python3"
  },
  "language_info": {
   "codemirror_mode": {
    "name": "ipython",
    "version": 3
   },
   "file_extension": ".py",
   "mimetype": "text/x-python",
   "name": "python",
   "nbconvert_exporter": "python",
   "pygments_lexer": "ipython3",
   "version": "3.8.15"
  }
 },
 "nbformat": 4,
 "nbformat_minor": 2
}
