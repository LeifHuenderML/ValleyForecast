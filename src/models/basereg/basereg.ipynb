{
 "cells": [
  {
   "cell_type": "code",
   "execution_count": 1,
   "metadata": {},
   "outputs": [
    {
     "name": "stdout",
     "output_type": "stream",
     "text": [
      "RMSE: 289.7007751464844\n"
     ]
    }
   ],
   "source": [
    "import torch\n",
    "from sklearn.dummy import DummyRegressor\n",
    "from sklearn.metrics import mean_squared_error\n",
    "import numpy as np\n",
    "\n",
    "# Load data\n",
    "x = torch.load('../data_prep/x.pt')\n",
    "y = torch.load('../data_prep/y.pt')\n",
    "\n",
    "# Convert PyTorch tensors to numpy arrays\n",
    "x_np = x.numpy()\n",
    "y_np = y.numpy()\n",
    "\n",
    "# Initialize and fit the DummyRegressor\n",
    "dummy_regressor = DummyRegressor(strategy=\"mean\")\n",
    "dummy_regressor.fit(x_np, y_np)\n",
    "\n",
    "# Predict using the dummy regressor\n",
    "predictions = dummy_regressor.predict(x_np)\n",
    "\n",
    "# Calculate RMSE\n",
    "rmse = np.sqrt(mean_squared_error(y_np, predictions))\n",
    "\n",
    "# Output RMSE\n",
    "print(f\"RMSE: {rmse}\")\n"
   ]
  },
  {
   "cell_type": "code",
   "execution_count": null,
   "metadata": {},
   "outputs": [],
   "source": []
  }
 ],
 "metadata": {
  "kernelspec": {
   "display_name": "valley_fever",
   "language": "python",
   "name": "python3"
  },
  "language_info": {
   "codemirror_mode": {
    "name": "ipython",
    "version": 3
   },
   "file_extension": ".py",
   "mimetype": "text/x-python",
   "name": "python",
   "nbconvert_exporter": "python",
   "pygments_lexer": "ipython3",
   "version": "3.8.15"
  }
 },
 "nbformat": 4,
 "nbformat_minor": 2
}
