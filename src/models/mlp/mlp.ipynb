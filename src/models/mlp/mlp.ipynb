{
 "cells": [
  {
   "cell_type": "code",
   "execution_count": 1,
   "metadata": {},
   "outputs": [
    {
     "name": "stdout",
     "output_type": "stream",
     "text": [
      "torch.Size([17724, 6935])\n",
      "Epoch [100/1500], Loss: 287.4871, Validation Loss: 128.5077\n",
      "Epoch [200/1500], Loss: 283.8199, Validation Loss: 128.4548\n",
      "Epoch [300/1500], Loss: 276.9374, Validation Loss: 131.3308\n",
      "Epoch [400/1500], Loss: 261.2257, Validation Loss: 130.9897\n",
      "Epoch [500/1500], Loss: 228.1291, Validation Loss: 133.7019\n",
      "Epoch [600/1500], Loss: 174.8842, Validation Loss: 133.7079\n",
      "Epoch [700/1500], Loss: 123.7724, Validation Loss: 130.1123\n",
      "Epoch [800/1500], Loss: 91.4500, Validation Loss: 123.0044\n",
      "Epoch [900/1500], Loss: 72.5286, Validation Loss: 119.9525\n",
      "Epoch [1000/1500], Loss: 62.1644, Validation Loss: 118.2955\n",
      "Epoch [1100/1500], Loss: 55.7313, Validation Loss: 116.1381\n",
      "Epoch [1200/1500], Loss: 51.1945, Validation Loss: 115.1271\n",
      "Epoch [1300/1500], Loss: 47.4918, Validation Loss: 114.3789\n",
      "Epoch [1400/1500], Loss: 44.1495, Validation Loss: 114.8366\n",
      "Epoch [1500/1500], Loss: 40.9413, Validation Loss: 115.1793\n"
     ]
    }
   ],
   "source": [
    "import torch\n",
    "import torch.nn as nn\n",
    "import torch.optim as optim\n",
    "import pandas as pd\n",
    "import numpy as np\n",
    "from sklearn.model_selection import train_test_split\n",
    "\n",
    "\n",
    "class MLP(nn.Module):\n",
    "    def __init__(self, input_size, hidden_size, output_size, dropout_rate=0.5):\n",
    "        super(MLP, self).__init__()\n",
    "        self.fc1 = nn.Linear(input_size, hidden_size)\n",
    "        self.relu = nn.ReLU()\n",
    "        self.dropout1 = nn.Dropout(dropout_rate)  \n",
    "        self.fc2 = nn.Linear(hidden_size, int(hidden_size / 2))\n",
    "        self.dropout2 = nn.Dropout(dropout_rate)  \n",
    "        self.fc3 = nn.Linear(int(hidden_size / 2), output_size)\n",
    "\n",
    "    def forward(self, x):\n",
    "        out = self.fc1(x)\n",
    "        out = self.relu(out)\n",
    "        # out = self.dropout1(out)  \n",
    "        out = self.fc2(out)\n",
    "        out = self.relu(out)\n",
    "        # out = self.dropout2(out)  \n",
    "        out = self.fc3(out)\n",
    "        return out\n",
    "    \n",
    "input_size = 365*19\n",
    "hidden_size = 1024\n",
    "output_size = 1  \n",
    "model = MLP(input_size, hidden_size, output_size)\n",
    "model.to('cuda')\n",
    "train_dataset = torch.load('../../../data/cleaned/train.pt')\n",
    "train_x, train_y = train_dataset.tensors  \n",
    "\n",
    "val_dataset = torch.load('../../../data/cleaned/val.pt')\n",
    "test_x, test_y = val_dataset.tensors  \n",
    "\n",
    "train_x = train_x.reshape(-1, 365*19)\n",
    "test_x = test_x.reshape(-1, 365*19)\n",
    "\n",
    "train_x = train_x.to('cuda')\n",
    "test_x = test_x.to('cuda')\n",
    "train_y = train_y.to('cuda')\n",
    "test_y = test_y.to('cuda')\n",
    "\n",
    "print(train_x.shape)\n",
    "criterion = nn.MSELoss()  \n",
    "\n",
    "optimizer = optim.Adam(model.parameters(), lr=5e-5)\n",
    "num_epochs = 1500\n",
    "\n",
    "for epoch in range(num_epochs):\n",
    "    model.train()  \n",
    "    outputs = model(train_x)\n",
    "    loss = criterion(outputs, train_y.unsqueeze(1))\n",
    "    optimizer.zero_grad()\n",
    "    loss.backward()\n",
    "    optimizer.step()\n",
    "    if (epoch + 1) % 100 == 0:\n",
    "        model.eval()  \n",
    "        with torch.no_grad():\n",
    "            val_outputs = model(test_x)\n",
    "            val_loss = criterion(val_outputs, test_y.unsqueeze(1))\n",
    "        print(f'Epoch [{epoch + 1}/{num_epochs}], Loss: {np.sqrt(loss.item()):.4f}, Validation Loss: {np.sqrt(val_loss.item()):.4f}')"
   ]
  },
  {
   "cell_type": "code",
   "execution_count": null,
   "metadata": {},
   "outputs": [],
   "source": []
  },
  {
   "cell_type": "code",
   "execution_count": null,
   "metadata": {},
   "outputs": [],
   "source": []
  },
  {
   "cell_type": "code",
   "execution_count": null,
   "metadata": {},
   "outputs": [],
   "source": []
  },
  {
   "cell_type": "code",
   "execution_count": null,
   "metadata": {},
   "outputs": [],
   "source": []
  }
 ],
 "metadata": {
  "kernelspec": {
   "display_name": "valley_fever",
   "language": "python",
   "name": "python3"
  },
  "language_info": {
   "codemirror_mode": {
    "name": "ipython",
    "version": 3
   },
   "file_extension": ".py",
   "mimetype": "text/x-python",
   "name": "python",
   "nbconvert_exporter": "python",
   "pygments_lexer": "ipython3",
   "version": "3.8.15"
  }
 },
 "nbformat": 4,
 "nbformat_minor": 2
}
